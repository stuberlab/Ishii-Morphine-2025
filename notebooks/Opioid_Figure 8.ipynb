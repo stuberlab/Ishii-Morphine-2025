{
 "cells": [
  {
   "cell_type": "markdown",
   "id": "972fd6ee",
   "metadata": {},
   "source": [
    "Analyzing MOR/KOR data"
   ]
  },
  {
   "cell_type": "markdown",
   "id": "9243b694",
   "metadata": {},
   "source": [
    "MOR and KOR labeled animals were administered with morphine. KOR+ cells will be treated as negative control."
   ]
  },
  {
   "cell_type": "code",
   "execution_count": null,
   "id": "f18899cc",
   "metadata": {},
   "outputs": [],
   "source": [
    "import os\n",
    "import numpy as np\n",
    "import pandas as pd\n",
    "import shutil\n",
    "from read_roi import read_roi_file\n",
    "import tifffile\n",
    "import matplotlib.pyplot as plt\n",
    "import create_mask_for_region\n",
    "from datetime import datetime\n",
    "from contour_visualization import *\n",
    "\n",
    "#import shap\n",
    "# read heatmap plots\n",
    "#import Heatmap_plots as hmp\n",
    "import seaborn as sns\n",
    "import pickle\n",
    "import tifffile as tiff\n",
    "\n",
    "def flatten_extend(matrix):\n",
    "    flat_list = []\n",
    "    for row in matrix:\n",
    "        flat_list.extend(row)\n",
    "    return flat_list"
   ]
  },
  {
   "cell_type": "code",
   "execution_count": null,
   "id": "e9362011",
   "metadata": {},
   "outputs": [],
   "source": [
    "# set figure key\n",
    "figure_key = 'Figure8'"
   ]
  },
  {
   "cell_type": "code",
   "execution_count": null,
   "id": "3f8233a5",
   "metadata": {},
   "outputs": [],
   "source": [
    "# set paths\n",
    "result_paths = r\"\\\\10.158.246.229\\DataCommon\\SmartSPIM2\\Ken\\OPTRAP\"\n",
    "rootpath = r\"\\\\10.159.50.7\\LabCommon\\Ken\\data\\MORKOR\"\n",
    "metapath = os.path.join(rootpath,\"meta\")\n",
    "analysis_resultpath = os.path.join(rootpath,\"result\")\n",
    "analysis_figurepath = os.path.join(r\"G:\\My Drive\\Opioid_whole_brain_manuscript\\figure\",figure_key)\n",
    "for path in [analysis_resultpath,analysis_figurepath]:\n",
    "    if not os.path.exists(path):\n",
    "        os.mkdir(path)\n",
    "\n",
    "# load meta info of the files\n",
    "metadf = pd.read_csv(os.path.join(metapath,\"MORKOR_Opioid.csv\"),index_col= False)\n",
    "metadf = metadf[metadf.Usable]\n",
    "# load brain atlas to register\n",
    "atlas_df = pd.read_csv(r\"data/atlas/atlas_info_KimRef_FPbasedLabel_v4.0_brain_with_size_with_curated_with_cleaned_acronyms.csv\",index_col = False)\n",
    "metacolumns = ['id','acronym','parent_acronym','parent_id','structure_order']\n",
    "contour_img = tifffile.imread(r\"data/atlas/Kim_ref_adult_FP-label_v2.9_contour_map.tif\")\n",
    "# retrieve list of files\n",
    "fnames =  [f for f in metadf.fname.values if 'DONE' in f]\n",
    "# get all the leaf nodes\n",
    "leafnodes = np.setdiff1d(atlas_df.acronym.unique(),atlas_df.parent_acronym.unique())"
   ]
  },
  {
   "cell_type": "code",
   "execution_count": null,
   "id": "0fe880be",
   "metadata": {},
   "outputs": [],
   "source": [
    "import matplotlib.pyplot as plt\n",
    "import seaborn as sns\n",
    "import os\n",
    "from adjustText import adjust_text\n",
    "\n",
    "# Set matplotlib parameters for white text on transparent background\n",
    "plt.rcParams.update({\n",
    "    'figure.facecolor': 'none',  # Transparent figure background\n",
    "    'axes.facecolor': 'none',    # Transparent axes background\n",
    "    'axes.edgecolor': 'black',   # White axes edge color\n",
    "    'axes.labelcolor': 'black',  # White axis labels\n",
    "    'xtick.color': 'black',      # White tick labels\n",
    "    'ytick.color': 'black',      # White tick labels\n",
    "    'legend.facecolor': 'none',  # Transparent legend background\n",
    "    'legend.edgecolor': 'none',  # Transparent legend edgecolor\n",
    "    'text.color': 'black',       # White text color\n",
    "    'font.family':'Arial',\n",
    "    'pdf.fonttype':42,\n",
    "    'ps.fonttype':42,\n",
    "   \n",
    "})\n",
    "#important for text to be detected when importing saved figures into illustrator\n"
   ]
  },
  {
   "cell_type": "code",
   "execution_count": null,
   "id": "65a9975d",
   "metadata": {},
   "outputs": [],
   "source": [
    "# Read the condition information\n",
    "Conditions = metadf.Condition.unique()\n",
    "print(Conditions)\n",
    "Conditions = ['Acute_Morphine', ]\n",
    "genotypes = metadf.Genotype.unique()\n",
    "print(genotypes)\n",
    "genotypes = ['KOR-Cre','MOR-Cre',]\n",
    "# String for 'AcuteMOR' but MOR as superscript\n",
    "genotype_names = [r\"Acute$^{KOR}$\",r\"Acute$^{MOR}$\",] # kor being a negative control\n",
    "genotype_colors = ['gray','orange']\n",
    "\n",
    "genotypes_names = ['AcuteKOR','AcuteMOR',]\n",
    "raw_signal_names = ['Ex_561_Ch1_stitched','Ex_639_Ch2_stitched']\n",
    "func_signal_names = ['tdTomato','c-Fos']\n",
    "\n",
    "plotting_variables = ['Ex_561_Ch1_stitched_newcounts','Ex_561_Ch1_stitched_density',\n",
    "       'Ex_639_Ch2_stitched_newcounts', 'Ex_639_Ch2_stitched_density',\n",
    "       'overlap_strict_newcounts', 'overlap_strict_density',\n",
    "       'overlap_over_Ex_561_Ch1_stitched', 'overlap_over_Ex_639_Ch2_stitched','F1_Score']"
   ]
  },
  {
   "cell_type": "markdown",
   "id": "a0cdf0ec",
   "metadata": {},
   "source": [
    "remove HB and CBL from the list of ancestores"
   ]
  },
  {
   "cell_type": "code",
   "execution_count": null,
   "id": "b3b3d03d",
   "metadata": {},
   "outputs": [],
   "source": [
    "# Update the ancestor curated acronyms so it matches the tree devisions\n",
    "unique_ancestor_curated_acronyms = ['Isocortex','OLF','HPF','CTXsp','STR','PAL','TH','HY','MB',]\n"
   ]
  },
  {
   "cell_type": "markdown",
   "id": "de7332c6",
   "metadata": {},
   "source": [
    "remove CBL and MB subtree from the atlas file and the merge_df"
   ]
  },
  {
   "cell_type": "code",
   "execution_count": null,
   "id": "ac246b69",
   "metadata": {},
   "outputs": [],
   "source": [
    "ancestor_colors = ['#32FF00','#92278F','#F7941D','#00AEEF','#BE1E2D','#73E0FF','#00A79D','#2B3990','#637300']\n",
    "root_node_color_dict = {}\n",
    "for cidx,node_label in enumerate(['CTXsp', 'HPF', 'HY', 'Isocortex', 'MB', 'OLF', 'PAL', 'STR', 'TH']):\n",
    "    root_node_color_dict[node_label] = ancestor_colors[cidx]\n",
    "\n",
    "# update the ancestor_acronym in atlas_df\n",
    "for ancestor_acronym in ['CTXsp', 'HPF', 'HY', 'Isocortex', 'MB', 'OLF', 'PAL', 'STR', 'TH']:\n",
    "    print(ancestor_acronym)\n",
    "    sub_tree = create_mask_for_region.get_subregions(atlas_df,atlas_df.loc[atlas_df.acronym == ancestor_acronym,'id'].values[0],return_original = True)\n",
    "    atlas_df.loc[atlas_df.acronym.isin(sub_tree['acronym']),'ancestor_default_acronym'] = ancestor_acronym"
   ]
  },
  {
   "cell_type": "markdown",
   "id": "b8281a1a",
   "metadata": {},
   "source": [
    "# Preparation"
   ]
  },
  {
   "cell_type": "markdown",
   "id": "6727007b",
   "metadata": {},
   "source": [
    "## Prepare by region data"
   ]
  },
  {
   "cell_type": "code",
   "execution_count": null,
   "id": "3ed634e4",
   "metadata": {},
   "outputs": [],
   "source": [
    "# all the by region data are stored in one master dataframe\n",
    "total_df = pd.read_csv(os.path.join(analysis_resultpath,'total_long_merge_Annotated_counts_with_leaf_with_density.csv'),index_col = False)\n",
    "total_df = total_df[total_df.Condition.isin(Conditions)]\n"
   ]
  },
  {
   "cell_type": "code",
   "execution_count": null,
   "id": "4e7e104f",
   "metadata": {},
   "outputs": [],
   "source": [
    "# remove CBL and MB subtree from the data. These regions had bad registration quality and low interest\n",
    "remove_ancestor_ids = atlas_df[(atlas_df.acronym == 'HB') | (atlas_df.acronym == 'CBL')]['id'].values\n",
    "remove_df = pd.concat([create_mask_for_region.get_subregions(atlas_df,idx,return_original = True) for idx in remove_ancestor_ids],axis = 0)\n",
    "sub_atlas_df = atlas_df.set_index(['id']).drop(remove_df['id'].values)\n",
    "total_df = total_df[total_df.acronym.isin(sub_atlas_df.acronym.unique())]\n"
   ]
  },
  {
   "cell_type": "code",
   "execution_count": null,
   "id": "b8490dcd",
   "metadata": {},
   "outputs": [],
   "source": [
    "# subset the merge dataframe\n",
    "plotting_values = 'Ex_561_Ch1_stitched_newcounts' # this is the value that will be plotted\n",
    "# sum the overlap_newcounts for the entire brain\n",
    "tmerge_df = total_df.loc[(total_df.parent_acronym == 'grey'),['Genotype','ID',plotting_values]].groupby(['Genotype','ID']).sum().reset_index(drop = False)\n",
    "tmerge_df= tmerge_df[tmerge_df[plotting_values]> 0] # remove the zero values that are the wrong combination of condition and ID"
   ]
  },
  {
   "cell_type": "code",
   "execution_count": null,
   "id": "fdbb1e87",
   "metadata": {},
   "outputs": [],
   "source": [
    "tmerge_df.groupby('Genotype').describe()"
   ]
  },
  {
   "cell_type": "code",
   "execution_count": null,
   "id": "2b8129bf",
   "metadata": {},
   "outputs": [],
   "source": [
    "# zscore the results\n",
    "normalize_key = False\n",
    "plotting_values = 'overlap_over_Ex_561_Ch1_stitched'\n",
    "\n",
    "# read the result file\n",
    "pivot_heatmap_df = pd.read_csv(os.path.join(analysis_resultpath,f'{plotting_values}_pivoted_heatmap_df_without_zscore.csv'),index_col = 0)\n",
    "\n",
    "# Load the acronyms for plottin\n",
    "with open(os.path.join(analysis_resultpath,f'curated_acronym.pickle'), 'rb') as handle:\n",
    "    curated_acronyms = pickle.load(handle)\n",
    "\n",
    "with open(os.path.join(analysis_resultpath,f'ancestor_curated_acronym.pickle'), 'rb') as handle:\n",
    "    ancestor_curated_acronyms = pickle.load(handle,)\n"
   ]
  },
  {
   "cell_type": "markdown",
   "id": "7d1f7801",
   "metadata": {},
   "source": [
    "## Prepare heatmap"
   ]
  },
  {
   "cell_type": "code",
   "execution_count": null,
   "id": "c0b7a50b",
   "metadata": {},
   "outputs": [],
   "source": [
    "import dask.array as da\n",
    "channel = 'overlap_strict'\n",
    "heatmap_da = da.from_zarr(os.path.join(analysis_resultpath, f'{channel}_heatmap_array'))\n",
    "tdTchannel = 'Ex_561_Ch1_stitched'\n",
    "tdT_heatmap_da = da.from_zarr(os.path.join(analysis_resultpath, f'{tdTchannel}_heatmap_array'))\n"
   ]
  },
  {
   "cell_type": "code",
   "execution_count": null,
   "id": "84aa48b9",
   "metadata": {},
   "outputs": [],
   "source": [
    "# write the fnamelistas a pickle file\n",
    "with open(os.path.join(analysis_resultpath,f'{channel}_fnamelist.pickle'), 'rb') as handle:\n",
    "    fnamelist = pickle.load(handle,)"
   ]
  },
  {
   "cell_type": "code",
   "execution_count": null,
   "id": "1bfdd5a3",
   "metadata": {},
   "outputs": [],
   "source": [
    "# read an annotated atlas file\n",
    "atlas_img = tifffile.imread(r\"data/atlas/Kim_ref_adult_FP-label_v4.0.tif\")"
   ]
  },
  {
   "cell_type": "code",
   "execution_count": null,
   "id": "856d97b3",
   "metadata": {},
   "outputs": [],
   "source": [
    "metadf = metadf.set_index('fname').loc[fnamelist,:]"
   ]
  },
  {
   "cell_type": "code",
   "execution_count": null,
   "id": "5b150cdb",
   "metadata": {},
   "outputs": [],
   "source": [
    "# average the heatmaps based on the genotype\n",
    "genotype1 = genotypes[0]\n",
    "genotype2 = genotypes[1]\n",
    "genotype1_mean_heatmap = heatmap_da[metadf.Genotype == genotype1,:].mean(axis= 0).reshape(atlas_img.shape).compute()\n",
    "genotype2_mean_heatmap = heatmap_da[metadf.Genotype == genotype2,:].mean(axis= 0).reshape(atlas_img.shape).compute()"
   ]
  },
  {
   "cell_type": "code",
   "execution_count": null,
   "id": "1216d47c",
   "metadata": {},
   "outputs": [],
   "source": [
    "# average the heatmaps based on the genotype\n",
    "genotype1_mean_tdT_heatmap = tdT_heatmap_da[metadf.Genotype == genotype1,:].mean(axis= 0).reshape(atlas_img.shape).compute()\n",
    "genotype2_mean_tdT_heatmap = tdT_heatmap_da[metadf.Genotype == genotype2,:].mean(axis= 0).reshape(atlas_img.shape).compute()"
   ]
  },
  {
   "cell_type": "code",
   "execution_count": null,
   "id": "533ed92e",
   "metadata": {},
   "outputs": [],
   "source": [
    "normalized_heatmap_da = heatmap_da/tdT_heatmap_da\n",
    "# average the heatmaps based on the genotype\n",
    "genotype1_mean_normalized_heatmap = normalized_heatmap_da[metadf.Genotype == genotype1,:].mean(axis= 0).reshape(atlas_img.shape).compute()\n",
    "genotype2_mean_normalized_heatmap = normalized_heatmap_da[metadf.Genotype == genotype2,:].mean(axis= 0).reshape(atlas_img.shape).compute()\n",
    "\n",
    "# set nan to zero\n",
    "genotype1_mean_normalized_heatmap[np.isnan(genotype1_mean_normalized_heatmap)] = 0\n",
    "genotype2_mean_normalized_heatmap[np.isnan(genotype2_mean_normalized_heatmap)] = 0"
   ]
  },
  {
   "cell_type": "markdown",
   "id": "268abc1d",
   "metadata": {},
   "source": [
    "## Read results from WT-Opioid data"
   ]
  },
  {
   "cell_type": "markdown",
   "id": "fe8dfc05",
   "metadata": {},
   "source": [
    "Brain regions that respond to acute morphine are selected from analysis in Figure 3"
   ]
  },
  {
   "cell_type": "code",
   "execution_count": null,
   "id": "20080989",
   "metadata": {},
   "outputs": [],
   "source": [
    "# read the results from the treeFDR f\n",
    "TreeFDRF_df = pd.read_csv(os.path.join(r\"G:\\My Drive\\Opioid_whole_brain_manuscript\\result\",f'TreeFDRF_pvalue_Figure2_C_glm_stat_df_no_batch.csv'),index_col = False)\n",
    "# add the cleaned acronym names to the TreeFDR dataframe\n",
    "TreeFDRF_df = TreeFDRF_df.merge(atlas_df[['acronym','cleaned_acronym']],left_on = 'acronym',right_on = 'acronym')\n",
    "# read the effect_size_df that contains stats and pvalues\n",
    "effect_size_df = pd.read_csv(os.path.join(r\"G:\\My Drive\\Opioid_whole_brain_manuscript\\result\",f'Figure3_effect_size_df.csv'),index_col = 'acronym')\n",
    "# get the rejected acronyms and print\n",
    "acute_rejected_acronyms = effect_size_df[effect_size_df.Saline_vs_Acute_Morphine_qvalue < 0.05].index.values\n",
    "print(len(acute_rejected_acronyms), ' rejected acronyms')\n",
    "acute_rejected_acronyms\n"
   ]
  },
  {
   "cell_type": "markdown",
   "id": "edb5e597",
   "metadata": {},
   "source": [
    "# Figure E"
   ]
  },
  {
   "cell_type": "code",
   "execution_count": null,
   "id": "26e7f97d",
   "metadata": {},
   "outputs": [],
   "source": [
    "pannel_key = 'E'"
   ]
  },
  {
   "cell_type": "markdown",
   "id": "0e6fbde5",
   "metadata": {},
   "source": [
    "Plot the double+ cell density normalized by the total number of receptor+ cells in the region"
   ]
  },
  {
   "cell_type": "code",
   "execution_count": null,
   "id": "a16549d0",
   "metadata": {},
   "outputs": [],
   "source": [
    "vmax = 0.3\n",
    "vmin = 0\n",
    "plotting_variable = 'overlap_over_Ex_561_Ch1_stitched'\n",
    "# read the result file\n",
    "pivot_heatmap_df = pd.read_csv(os.path.join(analysis_resultpath,f'{plotting_variable}_pivoted_heatmap_df_without_zscore.csv'),index_col = 0)\n",
    "total_df = pd.read_csv(os.path.join(analysis_resultpath,'total_long_merge_Annotated_counts_with_leaf_with_density.csv'),index_col = False)\n",
    "# Create a subset version of the ancestor_curated_acronyms\n",
    "subset_ancestor_curated_acronyms = [ancestor_curated_acronyms[idx] for idx,f in enumerate(curated_acronyms)]\n",
    "\n",
    "# Plot the heatmap\n",
    "fig,axs = plt.subplots(len(genotypes),1, figsize = (4.5,len(genotypes)*0.5),sharex = True)\n",
    "\n",
    "# calculate variables to plot the heatmatp\n",
    "__,indexes = np.unique(subset_ancestor_curated_acronyms, return_index=True,)\n",
    "ytick_labels = [subset_ancestor_curated_acronyms[index] for index in sorted(indexes)]\n",
    "counts = [len(np.where(np.array(subset_ancestor_curated_acronyms) == ylabel)[0]) for ylabel in ytick_labels]\n",
    "\n",
    "borders = [0] + list(np.cumsum(counts))\n",
    "\n",
    "x = np.array(borders)\n",
    "yticks = (x[1:] + x[:-1]) / 2\n",
    "\n",
    "for idx,genotype in enumerate(genotypes):\n",
    "    subjects = metadf[(metadf.Genotype == genotype)].ID.values\n",
    "    if idx == len(genotypes)-1:\n",
    "        cbar_ax = fig.add_axes([axs[len(genotypes)-1].get_position().x1+0.01,axs[len(genotypes)-1].get_position().y0+0.2,0.05,0.5])\n",
    "        sns.heatmap(data = pivot_heatmap_df.loc[curated_acronyms,subjects].T,cbar_ax = cbar_ax\n",
    "        ,ax = axs[idx],vmin = vmin, vmax = vmax,cmap = 'OrRd')\n",
    "        cbar_ax.set_ylabel('double+ cell/tdTomato+ cell', rotation=270, labelpad=10, fontsize=10)  # Updated ylabel text\n",
    "        \n",
    "        \n",
    "    else:\n",
    "        sns.heatmap(data = pivot_heatmap_df.loc[curated_acronyms,subjects].T,cbar = False\n",
    "        ,ax = axs[idx],vmin = vmin, vmax = vmax,cmap = 'OrRd')\n",
    "    axs[idx].set_xticks(yticks)\n",
    "    axs[idx].set_xticklabels(ytick_labels,rotation = -45)\n",
    "    axs[idx].set_xlabel('')\n",
    "    [axs[idx].axvline(border,color = 'black',lw = 1,ls = ':') for border in borders[1:-1]]\n",
    "    axs[idx].set_yticks([pivot_heatmap_df.loc[curated_acronyms,subjects].T.shape[0]//2+0.5])\n",
    "    #axs[idx].set_yticklabels([],rotation = 0) \n",
    "    axs[idx].set_yticklabels([genotype_names[idx]],rotation = 0)\n",
    "fig.savefig(os.path.join(analysis_figurepath,f'{figure_key}{pannel_key}.png'),bbox_inches = 'tight',dpi = 216)\n",
    "fig.savefig(os.path.join(analysis_figurepath,f'{figure_key}{pannel_key}.pdf'),bbox_inches = 'tight',dpi = 216)\n"
   ]
  },
  {
   "cell_type": "markdown",
   "id": "a4dc3932",
   "metadata": {},
   "source": [
    "# Figure C"
   ]
  },
  {
   "cell_type": "code",
   "execution_count": null,
   "id": "b8c656b9",
   "metadata": {},
   "outputs": [],
   "source": [
    "import numpy as np\n",
    "\n",
    "def set_transparency(rgba_img, mask):\n",
    "    \"\"\"\n",
    "    Applies a transparency mask to an existing RGBA image.\n",
    "\n",
    "    Parameters:\n",
    "    - rgba_img: np.ndarray of shape (H, W, 4), dtype uint8\n",
    "        The input RGBA image.\n",
    "    - mask: np.ndarray of shape (H, W), dtype bool\n",
    "        Boolean mask where True means the pixel should be transparent.\n",
    "\n",
    "    Returns:\n",
    "    - np.ndarray of shape (H, W, 4), modified RGBA image.\n",
    "    \"\"\"\n",
    "    if rgba_img.shape[-1] != 4:\n",
    "        raise ValueError(\"Input image must be RGBA (shape must be H x W x 4).\")\n",
    "    if rgba_img.shape[:2] != mask.shape:\n",
    "        raise ValueError(\"Mask shape must match image height and width.\")\n",
    "\n",
    "    # Copy to avoid modifying the original\n",
    "    result = rgba_img.copy()\n",
    "    result[mask, 3] = 0  # Set alpha to 0 (transparent) where mask is True\n",
    "    return result\n"
   ]
  },
  {
   "cell_type": "code",
   "execution_count": null,
   "id": "d9302f3e",
   "metadata": {},
   "outputs": [],
   "source": [
    "import matplotlib as mpl\n",
    "# set vmax\n",
    "vmax = 20\n",
    "# pre selected zplanes\n",
    "curated_zplanes = [84,104,117,153,186,220]\n",
    "# slice for visualization\n",
    "imy_slice = slice(25,425)\n",
    "imx_slice = slice(50,600)\n",
    "channel = 'overlap_strict'\n",
    "# plot every 10 zplanes\n",
    "for genotype in genotypes:\n",
    "    theatmap = tifffile.imread(os.path.join(analysis_resultpath,f'{genotype}_{channel}_mean_heatmap.tif'))\n",
    "    fig,axs = plt.subplots(1,len(curated_zplanes),figsize = (3*len(curated_zplanes),3),sharey = True)\n",
    "    fig.subplots_adjust(wspace=0.25, hspace=0.3)\n",
    "\n",
    "    for idx,ax in enumerate(axs):\n",
    "        formatted_idx = f\"{curated_zplanes[idx]:04}\" \n",
    "        \n",
    "        image_slice = theatmap[curated_zplanes[idx],imy_slice,imx_slice]\n",
    "        contour_slice = contour_img[curated_zplanes[idx],imy_slice,imx_slice]\n",
    "        __,overlayed_image = overlap_contour(image_slice,contour_slice,\\\n",
    "        cmin =  0, cmax = vmax,\\\n",
    "        colormap = plt.cm.OrRd,)\n",
    "        trans_img = set_transparency(overlayed_image[:,:], (atlas_img==0)[curated_zplanes[idx],imy_slice,imx_slice])\n",
    "        ax.imshow(trans_img)\n",
    "        ax.axis('off')\n",
    "        ax.set_title('')\n",
    "        ax.set_ylabel(genotype,color = 'black')\n",
    "    # Add a colorbar next to the last subplot\n",
    "    cbar_ax = fig.add_axes([0.92, 0.15, 0.015, 0.7])  # [left, bottom, width, height]\n",
    "    norm = mpl.colors.Normalize(vmin=0, vmax=vmax)\n",
    "    cbar = mpl.colorbar.ColorbarBase(cbar_ax, cmap=plt.cm.OrRd, norm=norm)\n",
    "    cbar.set_label('double+ cell density', fontsize=8)\n",
    "\n",
    "\n",
    "    # save the plot\n",
    "    fig.savefig(os.path.join(analysis_figurepath,f'{figure_key}{pannel_key}_{genotype}.png'),bbox_inches = 'tight',dpi = 216)\n",
    "    fig.savefig(os.path.join(analysis_figurepath,f'{figure_key}{pannel_key}_{genotype}.pdf'),bbox_inches = 'tight',dpi = 216)\n"
   ]
  },
  {
   "cell_type": "code",
   "execution_count": null,
   "id": "b9165c47",
   "metadata": {},
   "outputs": [],
   "source": [
    "import matplotlib as mpl\n",
    "# set vmax\n",
    "vmax = 250\n",
    "# pre selected zplanes\n",
    "curated_zplanes = [84,104,117,153,186,220]\n",
    "# slice for visualization\n",
    "imy_slice = slice(25,425)\n",
    "imx_slice = slice(50,600)\n",
    "channel = 'Ex_561_Ch1_stitched'\n",
    "# plot every 10 zplanes\n",
    "for genotype in genotypes:\n",
    "    theatmap = tifffile.imread(os.path.join(analysis_resultpath,f'{genotype}_{channel}_mean_heatmap.tif'))\n",
    "    fig,axs = plt.subplots(1,len(curated_zplanes),figsize = (3*len(curated_zplanes),3),sharey = True)\n",
    "    fig.subplots_adjust(wspace=0.25, hspace=0.3)\n",
    "\n",
    "    for idx,ax in enumerate(axs):\n",
    "        formatted_idx = f\"{curated_zplanes[idx]:04}\" \n",
    "        \n",
    "        image_slice = theatmap[curated_zplanes[idx],imy_slice,imx_slice]\n",
    "        contour_slice = contour_img[curated_zplanes[idx],imy_slice,imx_slice]\n",
    "        __,overlayed_image = overlap_contour(image_slice,contour_slice,\\\n",
    "        cmin =  0, cmax = vmax,\\\n",
    "        colormap = plt.cm.Reds,)\n",
    "        trans_img = set_transparency(overlayed_image[:,:], (atlas_img==0)[curated_zplanes[idx],imy_slice,imx_slice])\n",
    "        ax.imshow(trans_img)\n",
    "        ax.axis('off')\n",
    "        ax.set_title('')\n",
    "        ax.set_ylabel(genotype,color = 'black')\n",
    "    # Add a colorbar next to the last subplot\n",
    "    cbar_ax = fig.add_axes([0.92, 0.15, 0.015, 0.7])  # [left, bottom, width, height]\n",
    "    norm = mpl.colors.Normalize(vmin=0, vmax=vmax)\n",
    "    cbar = mpl.colorbar.ColorbarBase(cbar_ax, cmap=plt.cm.Reds, norm=norm)\n",
    "    cbar.set_label('double+ cell density', fontsize=8)\n",
    "\n",
    "\n",
    "    # save the plot\n",
    "    fig.savefig(os.path.join(analysis_figurepath,f'{figure_key}{pannel_key}_{genotype}_{channel}.png'),bbox_inches = 'tight',dpi = 216)\n",
    "    fig.savefig(os.path.join(analysis_figurepath,f'{figure_key}{pannel_key}_{genotype}_{channel}.pdf'),bbox_inches = 'tight',dpi = 216)\n"
   ]
  },
  {
   "cell_type": "code",
   "execution_count": null,
   "id": "9fd1ff07",
   "metadata": {},
   "outputs": [],
   "source": [
    "import matplotlib as mpl\n",
    "# set vmax\n",
    "vmax = 0.3\n",
    "# pre selected zplanes\n",
    "curated_zplanes = [84,104,117,153,186,220]\n",
    "# slice for visualization\n",
    "imy_slice = slice(25,425)\n",
    "imx_slice = slice(50,600)\n",
    "channel = 'normalized_overlap_strict'\n",
    "# plot every 10 zplanes\n",
    "for gidx,genotype in enumerate(genotypes):\n",
    "    #theatmap = tifffile.imread(os.path.join(analysis_resultpath,f'{genotype}_{channel}_mean_heatmap.tif'))\n",
    "    theatmap = [genotype1_mean_normalized_heatmap,genotype2_mean_normalized_heatmap][gidx]\n",
    "    theatmap[np.isnan(theatmap)] = 0\n",
    "    fig,axs = plt.subplots(1,len(curated_zplanes),figsize = (3*len(curated_zplanes),3),sharey = True)\n",
    "    fig.subplots_adjust(wspace=0.25, hspace=0.3)\n",
    "\n",
    "    for idx,ax in enumerate(axs):\n",
    "        formatted_idx = f\"{curated_zplanes[idx]:04}\" \n",
    "        \n",
    "        image_slice = theatmap[curated_zplanes[idx],imy_slice,imx_slice]\n",
    "        contour_slice = contour_img[curated_zplanes[idx],imy_slice,imx_slice]\n",
    "        __,overlayed_image = overlap_contour(image_slice,contour_slice,\\\n",
    "        cmin =  0, cmax = vmax,\\\n",
    "        colormap = plt.cm.Reds,)\n",
    "        trans_img = set_transparency(overlayed_image[:,:], (atlas_img==0)[curated_zplanes[idx],imy_slice,imx_slice])\n",
    "        ax.imshow(trans_img)\n",
    "        ax.axis('off')\n",
    "        ax.set_title('')\n",
    "        ax.set_ylabel(genotype,color = 'black')\n",
    "    # Add a colorbar next to the last subplot\n",
    "    cbar_ax = fig.add_axes([0.92, 0.15, 0.015, 0.7])  # [left, bottom, width, height]\n",
    "    norm = mpl.colors.Normalize(vmin=0, vmax=vmax)\n",
    "    cbar = mpl.colorbar.ColorbarBase(cbar_ax, cmap=plt.cm.Reds, norm=norm)\n",
    "    cbar.set_label('double+ cell density', fontsize=8)\n",
    "\n",
    "\n",
    "    # save the plot\n",
    "    fig.savefig(os.path.join(analysis_figurepath,f'{figure_key}{pannel_key}_{genotype}_{channel}.png'),bbox_inches = 'tight',dpi = 216)\n",
    "    fig.savefig(os.path.join(analysis_figurepath,f'{figure_key}{pannel_key}_{genotype}_{channel}.pdf'),bbox_inches = 'tight',dpi = 216)\n"
   ]
  },
  {
   "cell_type": "markdown",
   "id": "9ec1c0a8",
   "metadata": {},
   "source": [
    "# Figure G"
   ]
  },
  {
   "cell_type": "code",
   "execution_count": null,
   "id": "af59f378",
   "metadata": {},
   "outputs": [],
   "source": [
    "pannel_key = 'G'"
   ]
  },
  {
   "cell_type": "code",
   "execution_count": null,
   "id": "a5d4d27e",
   "metadata": {},
   "outputs": [],
   "source": [
    "from scipy.stats import ttest_ind\n",
    "\n",
    "genotype1 = 'MOR-Cre'\n",
    "genotype2 = 'KOR-Cre'\n",
    "variable = 'overlap_over_Ex_561_Ch1_stitched'\n",
    "for acronym in total_df.acronym.unique():\n",
    "    genotype1_array = total_df[(total_df.Genotype == genotype1) & (total_df.acronym == acronym)][variable].values.astype('float')\n",
    "    genotype2_array = total_df[(total_df.Genotype == genotype2) & (total_df.acronym == acronym)][variable].values.astype('float')\n",
    "    s_,p_ = ttest_ind(genotype1_array, genotype2_array)\n",
    "    if np.isnan(p_):\n",
    "        p_ = 1\n",
    "    effect_size_df.loc[acronym,f'{genotype1}_vs_{genotype2}_pvalue'] = p_\n",
    "    effect_size_df.loc[acronym,f'{genotype1}_vs_{genotype2}_delta'] = np.mean(genotype1_array) - np.mean(genotype2_array)"
   ]
  },
  {
   "cell_type": "code",
   "execution_count": null,
   "id": "ea99d622",
   "metadata": {},
   "outputs": [],
   "source": [
    "from statsmodels.stats import multitest\n",
    "ps = effect_size_df.loc[acute_rejected_acronyms,'MOR-Cre_vs_KOR-Cre_pvalue'].values\n",
    "stats,qvalues,__,__ = multitest.multipletests(ps,alpha = 0.05,method = 'fdr_bh')"
   ]
  },
  {
   "cell_type": "code",
   "execution_count": null,
   "id": "e2e074c0",
   "metadata": {},
   "outputs": [],
   "source": []
  },
  {
   "cell_type": "code",
   "execution_count": null,
   "id": "79a3d003",
   "metadata": {},
   "outputs": [],
   "source": [
    "variable = 'overlap_over_Ex_561_Ch1_stitched'\n",
    "genotype1,genotype2 = 'KOR-Cre','MOR-Cre'\n",
    "#variable = 'overlap_strict_density'\n",
    "sorted_acronyms_list = acute_rejected_acronyms[np.argsort(qvalues)]\n",
    "fig,axs = plt.subplots(1,1,figsize = (9,1.2))\n",
    "\n",
    "sns.stripplot(data = total_df[total_df.acronym.isin(acute_rejected_acronyms)],\n",
    "            hue = 'Genotype',y = variable,x = 'acronym',dodge = True,\n",
    "            order = sorted_acronyms_list,\\\n",
    "            hue_order = genotypes,ax = axs,\\\n",
    "            palette = genotype_colors,alpha = 0.4,size = 3)\n",
    "sns.pointplot(total_df[total_df.acronym.isin(acute_rejected_acronyms)],\n",
    "            hue = 'Genotype',y = variable,x = 'acronym',order = sorted_acronyms_list,\n",
    "            dodge = .5-.5/len(acute_rejected_acronyms),\\\n",
    "        hue_order = genotypes,ax = axs,palette = genotype_colors,\n",
    "markers=\"o\", markersize=5, linestyle=\"none\",linewidth = 0.5)  \n",
    "sns.despine()\n",
    "axs.set_xticklabels([atlas_df[atlas_df.acronym == f].cleaned_acronym.values[0] for f in sorted_acronyms_list],fontsize = 11,rotation = -45)\n",
    "# remove legend\n",
    "axs.get_legend().remove()\n",
    "axs.set_xlabel('')\n",
    "axs.set_ylabel('double+/tdTomato+',fontsize = 12)\n",
    "# add a horizontal line to separate the clusters\n",
    "#borders = [0] + list(np.cumsum(nregions_list))\n",
    "#[axs.axvline(border - 0.5,color = 'gray',lw = 2,ls = ':') for border in borders[1:-1]]\n",
    "\n",
    "\n",
    "from statannotations.Annotator import Annotator\n",
    "pairs = [((c,genotype1),(c,genotype2)) for c in sorted_acronyms_list]\n",
    "\n",
    "annotator = Annotator(axs, pairs, data = total_df[total_df.acronym.isin(acute_rejected_acronyms)],\n",
    "            hue = 'Genotype',y = variable,x = 'acronym',\n",
    "            order = sorted_acronyms_list)\n",
    "annotator.configure(test='t-test_ind', text_format='star', loc='outside',)\n",
    "annotator.configure(comparisons_correction=\"BH\", correction_format=\"replace\")\n",
    "annotator.apply_and_annotate()\n",
    "\n",
    "\n",
    "fig.savefig(os.path.join(analysis_figurepath,f'{figure_key}{pannel_key}.png'),bbox_inches = 'tight',dpi = 216)\n",
    "fig.savefig(os.path.join(analysis_figurepath,f'{figure_key}{pannel_key}.pdf'),bbox_inches = 'tight',dpi = 216)\n"
   ]
  },
  {
   "cell_type": "code",
   "execution_count": null,
   "id": "d34d8706",
   "metadata": {},
   "outputs": [],
   "source": [
    "pannel_key = 'G_tdT'"
   ]
  },
  {
   "cell_type": "code",
   "execution_count": null,
   "id": "68d5862e",
   "metadata": {},
   "outputs": [],
   "source": [
    "variable = 'Ex_561_Ch1_stitched_density'\n",
    "genotype1,genotype2 = 'KOR-Cre','MOR-Cre'\n",
    "#variable = 'overlap_strict_density'\n",
    "sorted_acronyms_list = acute_rejected_acronyms[np.argsort(qvalues)]\n",
    "fig,axs = plt.subplots(1,1,figsize = (9,1.2))\n",
    "\n",
    "sns.stripplot(data = total_df[total_df.acronym.isin(acute_rejected_acronyms)],\n",
    "            hue = 'Genotype',y = variable,x = 'acronym',dodge = True,\n",
    "            order = sorted_acronyms_list,\\\n",
    "            hue_order = genotypes,ax = axs,\\\n",
    "            palette = genotype_colors,alpha = 0.4,size = 3)\n",
    "sns.pointplot(total_df[total_df.acronym.isin(acute_rejected_acronyms)],\n",
    "            hue = 'Genotype',y = variable,x = 'acronym',order = sorted_acronyms_list,\n",
    "            dodge = .5-.5/len(acute_rejected_acronyms),\\\n",
    "        hue_order = genotypes,ax = axs,palette = genotype_colors,\n",
    "markers=\"o\", markersize=5, linestyle=\"none\",linewidth = 0.5)  \n",
    "sns.despine()\n",
    "axs.set_xticklabels([atlas_df[atlas_df.acronym == f].cleaned_acronym.values[0] for f in sorted_acronyms_list],fontsize = 11,rotation = -45)\n",
    "# remove legend\n",
    "axs.get_legend().remove()\n",
    "axs.set_xlabel('')\n",
    "axs.set_ylabel('tdTomato+ density\\n(cells/mm3)',fontsize = 12)\n",
    "# add a horizontal line to separate the clusters\n",
    "#borders = [0] + list(np.cumsum(nregions_list))\n",
    "#[axs.axvline(border - 0.5,color = 'gray',lw = 2,ls = ':') for border in borders[1:-1]]\n",
    "\n",
    "\n",
    "from statannotations.Annotator import Annotator\n",
    "pairs = [((c,genotype1),(c,genotype2)) for c in sorted_acronyms_list]\n",
    "\n",
    "annotator = Annotator(axs, pairs, data = total_df[total_df.acronym.isin(acute_rejected_acronyms)],\n",
    "            hue = 'Genotype',y = variable,x = 'acronym',\n",
    "            order = sorted_acronyms_list)\n",
    "annotator.configure(test='t-test_ind', text_format='star', loc='outside',)\n",
    "annotator.configure(comparisons_correction=\"BH\", correction_format=\"replace\")\n",
    "annotator.apply_and_annotate()\n",
    "\n",
    "\n",
    "fig.savefig(os.path.join(analysis_figurepath,f'{figure_key}{pannel_key}.png'),bbox_inches = 'tight',dpi = 216)\n",
    "fig.savefig(os.path.join(analysis_figurepath,f'{figure_key}{pannel_key}.pdf'),bbox_inches = 'tight',dpi = 216)\n"
   ]
  },
  {
   "cell_type": "markdown",
   "id": "9eae2f7f",
   "metadata": {},
   "source": [
    "# Figure 8: spatial analysis of DR"
   ]
  },
  {
   "cell_type": "code",
   "execution_count": null,
   "id": "2476ce64",
   "metadata": {},
   "outputs": [],
   "source": [
    "import create_mask_for_region"
   ]
  },
  {
   "cell_type": "code",
   "execution_count": null,
   "id": "95c5bceb",
   "metadata": {},
   "outputs": [],
   "source": [
    "atlas_df = pd.read_csv(r\"data/atlas/atlas_info_KimRef_FPbasedLabel_v4.0_brain_with_size_with_curated_with_cleaned_acronyms.csv\",index_col = False)"
   ]
  },
  {
   "cell_type": "markdown",
   "id": "0159e1a9",
   "metadata": {},
   "source": [
    "conduct analysis of DR distribution"
   ]
  },
  {
   "cell_type": "code",
   "execution_count": null,
   "id": "df8d8305",
   "metadata": {},
   "outputs": [],
   "source": [
    "# target site can be experiment specific\n",
    "target_site_acronym = 'DR'\n",
    "target_site_id = atlas_df.loc[atlas_df.acronym == target_site_acronym,'id'].values[0]\n",
    "target_site_subids = create_mask_for_region.get_subregions(atlas_df,target_site_id,return_original=True)['id'].values\n",
    "target_site_subacronyms = create_mask_for_region.get_subregions(atlas_df,target_site_id,return_original=True)['acronym'].values\n",
    "print(target_site_subacronyms)"
   ]
  },
  {
   "cell_type": "code",
   "execution_count": null,
   "id": "43aba405",
   "metadata": {},
   "outputs": [],
   "source": [
    "# collect all the z positions where there is the target site\n",
    "zs = np.array([])\n",
    "for ID in target_site_subids:\n",
    "    z_,y_,x_ = np.where(atlas_img == ID)\n",
    "    zs = np.concatenate([zs,z_])\n",
    "# find the center of mass of the VTA\n",
    "z_unique = np.unique(zs).astype('uint16')\n",
    "z_center = int(np.mean(zs))"
   ]
  },
  {
   "cell_type": "code",
   "execution_count": null,
   "id": "a1c96747",
   "metadata": {},
   "outputs": [],
   "source": [
    "# calculate the spatial distribution of c-Fos+ cells for each subject\n",
    "'''spatial_cell_count_for_subregion = np.array([[[np.nanmean(subset_heatmap[z,np.where(atlas_img[z,:,:] == target_site_subid)[0],\\\n",
    "                                                                         np.where(atlas_img[z,:,:] == target_site_subid)[1]]) for z in z_unique]\\\n",
    "                                                                              for target_site_subid in target_site_subids] \\\n",
    "                                                                                for subset_heatmap in [genotype1_mean_heatmap,genotype2_mean_heatmap]])\n",
    "'''\n",
    "spatial_cell_count_for_subregion = np.array([[[np.nanmean(subset_heatmap[z,np.where(atlas_img[z,:,:] == target_site_subid)[0],\\\n",
    "                                                                         np.where(atlas_img[z,:,:] == target_site_subid)[1]]) for z in z_unique]\\\n",
    "                                                                              for target_site_subid in target_site_subids] \\\n",
    "                                                                                for subset_heatmap in [genotype1_mean_normalized_heatmap,genotype2_mean_normalized_heatmap]])\n"
   ]
  },
  {
   "cell_type": "code",
   "execution_count": null,
   "id": "1cf26777",
   "metadata": {},
   "outputs": [],
   "source": [
    "# calculate cell count for full region\n",
    "spatial_cell_count_for_full = np.nansum(spatial_cell_count_for_subregion,axis = 1)"
   ]
  },
  {
   "cell_type": "code",
   "execution_count": null,
   "id": "bdbdb2c0",
   "metadata": {},
   "outputs": [],
   "source": [
    "np.save(os.path.join(analysis_resultpath,f'spatial_factors_for_subregion_sum_{target_site_acronym}.npy'),spatial_cell_count_for_full,)\n",
    "np.save(os.path.join(analysis_resultpath,f'spatial_factors_for_subregion_{target_site_acronym}.npy'),spatial_cell_count_for_subregion,)"
   ]
  },
  {
   "cell_type": "code",
   "execution_count": null,
   "id": "89266d6a",
   "metadata": {},
   "outputs": [],
   "source": [
    "# split the Acumbens into anterior middle posterior\n",
    "z_anterior,z_medial,z_posterior = np.array_split(z_unique, 3)"
   ]
  },
  {
   "cell_type": "code",
   "execution_count": null,
   "id": "c403dde0",
   "metadata": {},
   "outputs": [],
   "source": [
    "# subset to NAc region\n",
    "imx_slice = slice(265,265+120)\n",
    "imy_slice = slice(135,135+120)"
   ]
  },
  {
   "cell_type": "code",
   "execution_count": null,
   "id": "a172352d",
   "metadata": {},
   "outputs": [],
   "source": [
    "pannel_key = 'H'"
   ]
  },
  {
   "cell_type": "code",
   "execution_count": null,
   "id": "5076fa02",
   "metadata": {},
   "outputs": [],
   "source": [
    "for  idx,sub_acronym in enumerate(target_site_subacronyms):\n",
    "    genotype_orders = [np.where(np.array([genotype1,genotype2]) == f)[0][0] for f in genotypes]\n",
    "    #tarray = spatial_cell_count_for_subregion[rejected_factor_idx,idx,:]\n",
    "    tarray = spatial_cell_count_for_subregion[genotype_orders,idx,:]\n",
    "    tarray = tarray[:,~np.isnan(tarray[0,:])]\n",
    "\n",
    "\n",
    "    fig,axs = plt.subplots(1,1,figsize = (3,0.6))\n",
    "    sns.heatmap(tarray,ax = axs,cmap = 'OrRd',vmin = 0,vmax= 0.3)\n",
    "    axs.set_title(sub_acronym)\n",
    "    axs.set_yticks(np.array(range(len(genotype_orders))) + 0.5)\n",
    "    axs.set_yticklabels(genotype_names,rotation = 0)\n",
    "    axs.set_xticks([0,tarray.shape[1]])\n",
    "    axs.set_xticklabels(['anterior','posterior'])    \n",
    "    \n",
    "    axs.set_xlabel('z position')\n",
    "    fig.savefig(os.path.join(analysis_figurepath,f'{figure_key}{pannel_key}_{sub_acronym}.png'),bbox_inches='tight',dpi = 512)\n",
    "    fig.savefig(os.path.join(analysis_figurepath,f'{figure_key}{pannel_key}_{sub_acronym}.pdf'),bbox_inches='tight',dpi = 512)\n",
    "\n"
   ]
  },
  {
   "cell_type": "code",
   "execution_count": null,
   "id": "2b98d498",
   "metadata": {},
   "outputs": [],
   "source": [
    "genotype_orders = [np.where(np.array([genotype1,genotype2]) == f)[0][0] for f in genotypes]\n",
    "#tarray = spatial_cell_count_for_subregion[rejected_factor_idx,idx,:]\n",
    "tarray = spatial_cell_count_for_full[genotype_orders,:]\n",
    "tarray = tarray[:,~np.isnan(tarray[0,:])]\n",
    "\n",
    "\n",
    "fig,axs = plt.subplots(1,1,figsize = (3,0.6))\n",
    "sns.heatmap(tarray,ax = axs,cmap = 'OrRd',vmin = 0,vmax= 0.3)\n",
    "axs.set_title(sub_acronym)\n",
    "axs.set_yticks(np.array(range(len(genotype_orders))) + 0.5)\n",
    "axs.set_yticklabels(genotype_names,rotation = 0)\n",
    "axs.set_xticks([0,tarray.shape[1]])\n",
    "axs.set_xticklabels(['anterior','posterior'])    \n",
    "\n",
    "axs.set_xlabel('z position')\n",
    "fig.savefig(os.path.join(analysis_figurepath,f'{figure_key}{pannel_key}.png'),bbox_inches='tight',dpi = 512)\n",
    "fig.savefig(os.path.join(analysis_figurepath,f'{figure_key}{pannel_key}.svg'),bbox_inches='tight',dpi = 512)\n",
    "\n"
   ]
  },
  {
   "cell_type": "code",
   "execution_count": null,
   "id": "5fb075d5",
   "metadata": {},
   "outputs": [],
   "source": [
    "pannel_key = 'I'"
   ]
  },
  {
   "cell_type": "code",
   "execution_count": null,
   "id": "40440171",
   "metadata": {},
   "outputs": [],
   "source": [
    "# plot the spatial distribution of cells using betacoef\n",
    "#channel_key = 'overlap'\n",
    "vmax = 0.3\n",
    "channel_key = 'normalized_overlap_strict'\n",
    "fig, axs = plt.subplots(len(genotypes), len(z_unique[::5]), \n",
    "                        figsize=(len(z_unique[::5])*2, len(Conditions)), sharex=True,sharey = True)\n",
    "\n",
    "for cidx, genotype in enumerate(genotypes):\n",
    "    #theatmap = np.load(os.path.join(analysis_resultpath,f'{channel_key}_{condition}_betas.npy'))\n",
    "    #theatmap = tifffile.imread(os.path.join(analysis_resultpath,f'{genotype}_{channel}_mean_heatmap.tif'))\n",
    "    theatmap = [genotype1_mean_normalized_heatmap,genotype2_mean_normalized_heatmap][cidx]\n",
    "\n",
    "    for idx, curated_zplane in enumerate(z_unique[::5]):\n",
    "        ax = axs[cidx, idx]\n",
    "        image_slice = theatmap[curated_zplane,imy_slice,imx_slice]\n",
    "        contour_slice = contour_img[curated_zplane,imy_slice,imx_slice]\n",
    "        __,overlayed_image = overlap_contour(image_slice,contour_slice,\\\n",
    "        cmin =  0, cmax = vmax,\\\n",
    "        colormap = plt.cm.OrRd,)\n",
    "        trans_img = set_transparency(overlayed_image[:,:], (atlas_img==0)[curated_zplane,imy_slice,imx_slice])\n",
    "        ax.imshow(trans_img)\n",
    "\n",
    "        ax.set_xticks([])  # Remove x ticks\n",
    "        ax.set_yticks([])  # Remove y ticks\n",
    "        #ax.axis('off')\n",
    "        if idx == 0:\n",
    "            ax.set_ylabel(genotype_names[cidx], color='black', )\n",
    "        else:\n",
    "            ax.set_ylabel('', color='black',)\n",
    "fig.savefig(os.path.join(analysis_figurepath,f'{figure_key}{pannel_key}.png'),bbox_inches='tight',dpi = 1024)\n",
    "fig.savefig(os.path.join(analysis_figurepath,f'{figure_key}{pannel_key}.pdf'),bbox_inches='tight',dpi = 1024)"
   ]
  },
  {
   "cell_type": "code",
   "execution_count": null,
   "id": "bd715c07",
   "metadata": {},
   "outputs": [],
   "source": [
    "# calculate the spatial distribution of tdTomato+ cells for each subject\n",
    "tdTomato_spatial_cell_count_for_subregion = np.array([[[np.nanmean(subset_heatmap[z,np.where(atlas_img[z,:,:] == target_site_subid)[0],\\\n",
    "                                                                         np.where(atlas_img[z,:,:] == target_site_subid)[1]]) for z in z_unique]\\\n",
    "                                                                              for target_site_subid in target_site_subids] \\\n",
    "                                                                                for subset_heatmap in [genotype1_mean_tdT_heatmap,genotype2_mean_tdT_heatmap]])\n"
   ]
  },
  {
   "cell_type": "code",
   "execution_count": null,
   "id": "d3221264",
   "metadata": {},
   "outputs": [],
   "source": [
    "# calculate cell count for full region\n",
    "tdTomato_spatial_cell_count_for_full = np.nansum(tdTomato_spatial_cell_count_for_subregion,axis = 1)"
   ]
  },
  {
   "cell_type": "code",
   "execution_count": null,
   "id": "0c8f917a",
   "metadata": {},
   "outputs": [],
   "source": [
    "np.save(os.path.join(analysis_resultpath,f'tdTomato_spatial_factors_for_subregion_sum_{target_site_acronym}.npy'),tdTomato_spatial_cell_count_for_full,)\n",
    "np.save(os.path.join(analysis_resultpath,f'tdTomato_spatial_factors_for_subregion_{target_site_acronym}.npy'),tdTomato_spatial_cell_count_for_subregion,)"
   ]
  },
  {
   "cell_type": "code",
   "execution_count": null,
   "id": "b975382e",
   "metadata": {},
   "outputs": [],
   "source": [
    "# split the Acumbens into anterior middle posterior\n",
    "z_anterior,z_medial,z_posterior = np.array_split(z_unique, 3)"
   ]
  },
  {
   "cell_type": "code",
   "execution_count": null,
   "id": "206c554e",
   "metadata": {},
   "outputs": [],
   "source": [
    "# subset to NAc region\n",
    "imx_slice = slice(265,265+120)\n",
    "imy_slice = slice(135,135+120)"
   ]
  },
  {
   "cell_type": "code",
   "execution_count": null,
   "id": "27bc42ea",
   "metadata": {},
   "outputs": [],
   "source": [
    "pannel_key = 'H_tdT'"
   ]
  },
  {
   "cell_type": "code",
   "execution_count": null,
   "id": "a3789e5f",
   "metadata": {},
   "outputs": [],
   "source": [
    "tdTomato_vmax = 100\n",
    "for  idx,sub_acronym in enumerate(target_site_subacronyms):\n",
    "    genotype_orders = [np.where(np.array([genotype1,genotype2]) == f)[0][0] for f in genotypes]\n",
    "    #tarray = spatial_cell_count_for_subregion[rejected_factor_idx,idx,:]\n",
    "    tarray = tdTomato_spatial_cell_count_for_subregion[genotype_orders,idx,:]\n",
    "    tarray = tarray[:,~np.isnan(tarray[0,:])]\n",
    "\n",
    "\n",
    "    fig,axs = plt.subplots(1,1,figsize = (3,0.6))\n",
    "    sns.heatmap(tarray,ax = axs,cmap = 'YlGn',vmin = 0,vmax= tdTomato_vmax)\n",
    "    axs.set_title(sub_acronym)\n",
    "    axs.set_yticks(np.array(range(len(genotype_orders))) + 0.5)\n",
    "    axs.set_yticklabels(genotype_names,rotation = 0)\n",
    "    axs.set_xticks([0,tarray.shape[1]])\n",
    "    axs.set_xticklabels(['anterior','posterior'])    \n",
    "    \n",
    "    axs.set_xlabel('z position')\n",
    "    fig.savefig(os.path.join(analysis_figurepath,f'{figure_key}{pannel_key}_{sub_acronym}.png'),bbox_inches='tight',dpi = 512)\n",
    "    fig.savefig(os.path.join(analysis_figurepath,f'{figure_key}{pannel_key}_{sub_acronym}.pdf'),bbox_inches='tight',dpi = 512)\n",
    "\n"
   ]
  },
  {
   "cell_type": "code",
   "execution_count": null,
   "id": "46ea759d",
   "metadata": {},
   "outputs": [],
   "source": [
    "genotype_orders = [np.where(np.array([genotype1,genotype2]) == f)[0][0] for f in genotypes]\n",
    "#tarray = spatial_cell_count_for_subregion[rejected_factor_idx,idx,:]\n",
    "tarray = tdTomato_spatial_cell_count_for_full[genotype_orders,:]\n",
    "tarray = tarray[:,~np.isnan(tarray[0,:])]\n",
    "\n",
    "\n",
    "fig,axs = plt.subplots(1,1,figsize = (3,0.6))\n",
    "sns.heatmap(tarray,ax = axs,cmap = 'YlGn',vmin = 0,vmax= tdTomato_vmax*5)\n",
    "axs.set_title(sub_acronym)\n",
    "axs.set_yticks(np.array(range(len(genotype_orders))) + 0.5)\n",
    "axs.set_yticklabels(genotype_names,rotation = 0)\n",
    "axs.set_xticks([0,tarray.shape[1]])\n",
    "axs.set_xticklabels(['anterior','posterior'])    \n",
    "\n",
    "axs.set_xlabel('z position')\n",
    "fig.savefig(os.path.join(analysis_figurepath,f'{figure_key}{pannel_key}.png'),bbox_inches='tight',dpi = 512)\n",
    "fig.savefig(os.path.join(analysis_figurepath,f'{figure_key}{pannel_key}.pdf'),bbox_inches='tight',dpi = 512)\n",
    "\n"
   ]
  },
  {
   "cell_type": "code",
   "execution_count": null,
   "id": "952dc273",
   "metadata": {},
   "outputs": [],
   "source": [
    "# plot the spatial distribution of cells using betacoef\n",
    "#channel_key = 'overlap'\n",
    "pannel_key = 'X_tdT'\n",
    "vmax = 250\n",
    "channel_key = 'Ex_561_Ch1_stitched'\n",
    "fig, axs = plt.subplots(len(genotypes), len(z_unique[::5]), \n",
    "                        figsize=(len(z_unique[::5])*2, len(Conditions)), sharex=True,sharey = True)\n",
    "\n",
    "for cidx, genotype in enumerate(genotypes):\n",
    "    #theatmap = np.load(os.path.join(analysis_resultpath,f'{channel_key}_{condition}_betas.npy'))\n",
    "    #theatmap = tifffile.imread(os.path.join(analysis_resultpath,f'{genotype}_{channel}_mean_heatmap.tif'))\n",
    "    theatmap = [genotype1_mean_tdT_heatmap,genotype2_mean_tdT_heatmap][cidx]\n",
    "\n",
    "    for idx, curated_zplane in enumerate(z_unique[::5]):\n",
    "        ax = axs[cidx, idx]\n",
    "        image_slice = theatmap[curated_zplane,imy_slice,imx_slice]\n",
    "        contour_slice = contour_img[curated_zplane,imy_slice,imx_slice]\n",
    "        __,overlayed_image = overlap_contour(image_slice,contour_slice,\\\n",
    "        cmin =  0, cmax = vmax,\\\n",
    "        colormap = plt.cm.YlGn,)\n",
    "        trans_img = set_transparency(overlayed_image[:,:], (atlas_img==0)[curated_zplane,imy_slice,imx_slice])\n",
    "        ax.imshow(trans_img)\n",
    "\n",
    "        ax.set_xticks([])  # Remove x ticks\n",
    "        ax.set_yticks([])  # Remove y ticks\n",
    "        #ax.axis('off')\n",
    "        if idx == 0:\n",
    "            ax.set_ylabel(genotype_names[cidx], color='black', )\n",
    "        else:\n",
    "            ax.set_ylabel('', color='black',)\n",
    "fig.savefig(os.path.join(analysis_figurepath,f'{figure_key}{pannel_key}.png'),bbox_inches='tight',dpi = 1024)\n",
    "fig.savefig(os.path.join(analysis_figurepath,f'{figure_key}{pannel_key}.pdf'),bbox_inches='tight',dpi = 1024)"
   ]
  },
  {
   "cell_type": "markdown",
   "id": "a1f388d4",
   "metadata": {},
   "source": [
    "# Figure 8: spatial analysis of VTA"
   ]
  },
  {
   "cell_type": "code",
   "execution_count": null,
   "id": "d084836d",
   "metadata": {},
   "outputs": [],
   "source": [
    "import create_mask_for_region"
   ]
  },
  {
   "cell_type": "code",
   "execution_count": null,
   "id": "b2884828",
   "metadata": {},
   "outputs": [],
   "source": [
    "atlas_df = pd.read_csv(r\"data/atlas/atlas_info_KimRef_FPbasedLabel_v4.0_brain_with_size_with_curated_with_cleaned_acronyms.csv\",index_col = False)"
   ]
  },
  {
   "cell_type": "markdown",
   "id": "ab1aa90f",
   "metadata": {},
   "source": [
    "conduct analysis of VTA distribution"
   ]
  },
  {
   "cell_type": "code",
   "execution_count": null,
   "id": "1e4ca4cd",
   "metadata": {},
   "outputs": [],
   "source": [
    "# target site can be experiment specific\n",
    "target_site_acronym = 'VTA'\n",
    "target_site_id = atlas_df.loc[atlas_df.acronym == target_site_acronym,'id'].values[0]\n",
    "target_site_subids = create_mask_for_region.get_subregions(atlas_df,target_site_id,return_original=True)['id'].values\n",
    "target_site_subacronyms = create_mask_for_region.get_subregions(atlas_df,target_site_id,return_original=True)['acronym'].values\n",
    "print(target_site_subacronyms)"
   ]
  },
  {
   "cell_type": "code",
   "execution_count": null,
   "id": "7394357a",
   "metadata": {},
   "outputs": [],
   "source": [
    "# collect all the z positions where there is the target site\n",
    "zs = np.array([])\n",
    "for ID in target_site_subids:\n",
    "    z_,y_,x_ = np.where(atlas_img == ID)\n",
    "    zs = np.concatenate([zs,z_])\n",
    "# find the center of mass of the VTA\n",
    "z_unique = np.unique(zs).astype('uint16')\n",
    "z_center = int(np.mean(zs))"
   ]
  },
  {
   "cell_type": "code",
   "execution_count": null,
   "id": "0c62cc65",
   "metadata": {},
   "outputs": [],
   "source": [
    "# calculate the spatial distribution of c-Fos+ cells for each subject\n",
    "#spatial_cell_count_for_subregion = np.array([[[np.nanmean(subset_heatmap[z,np.where(atlas_img[z,:,:] == target_site_subid)[0],np.where(atlas_img[z,:,:] == target_site_subid)[1]]) for z in z_unique] for target_site_subid in target_site_subids] for subset_heatmap in [genotype1_mean_heatmap,genotype2_mean_heatmap]])\n",
    "spatial_cell_count_for_subregion = np.array([[[np.nanmean(subset_heatmap[z,np.where(atlas_img[z,:,:] == target_site_subid)[0],np.where(atlas_img[z,:,:] == target_site_subid)[1]]) for z in z_unique] for target_site_subid in target_site_subids] for subset_heatmap in [genotype1_mean_normalized_heatmap,genotype2_mean_normalized_heatmap]])\n",
    "\n"
   ]
  },
  {
   "cell_type": "code",
   "execution_count": null,
   "id": "ff9a6dcd",
   "metadata": {},
   "outputs": [],
   "source": [
    "# calculate cell count for full region\n",
    "spatial_cell_count_for_full = np.nansum(spatial_cell_count_for_subregion,axis = 1)"
   ]
  },
  {
   "cell_type": "code",
   "execution_count": null,
   "id": "808ce305",
   "metadata": {},
   "outputs": [],
   "source": [
    "np.save(os.path.join(analysis_resultpath,f'spatial_factors_for_subregion_sum_{target_site_acronym}.npy'),spatial_cell_count_for_full,)\n",
    "np.save(os.path.join(analysis_resultpath,f'spatial_factors_for_subregion_{target_site_acronym}.npy'),spatial_cell_count_for_subregion,)"
   ]
  },
  {
   "cell_type": "code",
   "execution_count": null,
   "id": "60145d50",
   "metadata": {},
   "outputs": [],
   "source": [
    "# split the Acumbens into anterior middle posterior\n",
    "z_anterior,z_medial,z_posterior = np.array_split(z_unique, 3)"
   ]
  },
  {
   "cell_type": "code",
   "execution_count": null,
   "id": "46dae7d1",
   "metadata": {},
   "outputs": [],
   "source": [
    "# subset to VTA region\n",
    "imx_slice = slice(310,310+120)\n",
    "imy_slice = slice(220,220+120)"
   ]
  },
  {
   "cell_type": "code",
   "execution_count": null,
   "id": "b3240620",
   "metadata": {},
   "outputs": [],
   "source": [
    "pannel_key = 'K'"
   ]
  },
  {
   "cell_type": "code",
   "execution_count": null,
   "id": "f44ef87a",
   "metadata": {},
   "outputs": [],
   "source": [
    "vmax = 0.3\n",
    "for  idx,sub_acronym in enumerate(target_site_subacronyms):\n",
    "    genotype_orders = [np.where(np.array([genotype1,genotype2]) == f)[0][0] for f in genotypes]\n",
    "    #tarray = spatial_cell_count_for_subregion[rejected_factor_idx,idx,:]\n",
    "    tarray = spatial_cell_count_for_subregion[genotype_orders,idx,:]\n",
    "    tarray = tarray[:,~np.isnan(tarray[0,:])]\n",
    "\n",
    "\n",
    "    fig,axs = plt.subplots(1,1,figsize = (3,0.6))\n",
    "    sns.heatmap(tarray,ax = axs,cmap = 'OrRd',vmin = 0,vmax= vmax//2)\n",
    "    axs.set_title(sub_acronym)\n",
    "    axs.set_yticks(np.array(range(len(genotype_orders))) + 0.5)\n",
    "    axs.set_yticklabels(genotype_names,rotation = 0)\n",
    "    axs.set_xticks([0,tarray.shape[1]])\n",
    "    axs.set_xticklabels(['anterior','posterior'])    \n",
    "    \n",
    "    axs.set_xlabel('z position')\n",
    "    fig.savefig(os.path.join(analysis_figurepath,f'{figure_key}{pannel_key}_{sub_acronym}.png'),bbox_inches='tight',dpi = 512)\n",
    "    fig.savefig(os.path.join(analysis_figurepath,f'{figure_key}{pannel_key}_{sub_acronym}.pdf'),bbox_inches='tight',dpi = 512)\n",
    "\n"
   ]
  },
  {
   "cell_type": "code",
   "execution_count": null,
   "id": "f81f3a61",
   "metadata": {},
   "outputs": [],
   "source": [
    "genotype_orders = [np.where(np.array([genotype1,genotype2]) == f)[0][0] for f in genotypes]\n",
    "#tarray = spatial_cell_count_for_subregion[rejected_factor_idx,idx,:]\n",
    "tarray = spatial_cell_count_for_full[genotype_orders,:]\n",
    "tarray = tarray[:,~np.isnan(tarray[0,:])]\n",
    "\n",
    "\n",
    "fig,axs = plt.subplots(1,1,figsize = (3,0.6))\n",
    "sns.heatmap(tarray,ax = axs,cmap = 'OrRd',vmin = 0,vmax= vmax)\n",
    "axs.set_title(sub_acronym)\n",
    "axs.set_yticks(np.array(range(len(genotype_orders))) + 0.5)\n",
    "axs.set_yticklabels(genotype_names,rotation = 0)\n",
    "axs.set_xticks([0,tarray.shape[1]])\n",
    "axs.set_xticklabels(['anterior','posterior'])    \n",
    "\n",
    "axs.set_xlabel('z position')\n",
    "fig.savefig(os.path.join(analysis_figurepath,f'{figure_key}{pannel_key}.png'),bbox_inches='tight',dpi = 512)\n",
    "fig.savefig(os.path.join(analysis_figurepath,f'{figure_key}{pannel_key}.pdf'),bbox_inches='tight',dpi = 512)\n",
    "\n"
   ]
  },
  {
   "cell_type": "code",
   "execution_count": null,
   "id": "6b7a4fbe",
   "metadata": {},
   "outputs": [],
   "source": [
    "pannel_key = 'J'"
   ]
  },
  {
   "cell_type": "code",
   "execution_count": null,
   "id": "c9ebee18",
   "metadata": {},
   "outputs": [],
   "source": [
    "# plot the spatial distribution of cells using betacoef\n",
    "channel_key = 'overlap'\n",
    "vmax = 0.3\n",
    "fig, axs = plt.subplots(len(genotypes), len(z_unique[::5]), \n",
    "                        figsize=(len(z_unique[::5])*2, len(Conditions)), sharex=True,sharey = True)\n",
    "\n",
    "for cidx, genotype in enumerate(genotypes):\n",
    "    #theatmap = np.load(os.path.join(analysis_resultpath,f'{channel_key}_{condition}_betas.npy'))\n",
    "    #theatmap = tifffile.imread(os.path.join(analysis_resultpath,f'{genotype}_{channel}_mean_heatmap.tif'))\n",
    "    theatmap = [genotype1_mean_normalized_heatmap,genotype2_mean_normalized_heatmap][cidx]\n",
    "\n",
    "    for idx, curated_zplane in enumerate(z_unique[::5]):\n",
    "        ax = axs[cidx, idx]\n",
    "        image_slice = theatmap[curated_zplane,imy_slice,imx_slice]\n",
    "        contour_slice = contour_img[curated_zplane,imy_slice,imx_slice]\n",
    "        __,overlayed_image = overlap_contour(image_slice,contour_slice,\\\n",
    "        cmin =  0, cmax = vmax,\\\n",
    "        colormap = plt.cm.OrRd,)\n",
    "        trans_img = set_transparency(overlayed_image[:,:], (atlas_img==0)[curated_zplane,imy_slice,imx_slice])\n",
    "        ax.imshow(trans_img)\n",
    "\n",
    "        ax.set_xticks([])  # Remove x ticks\n",
    "        ax.set_yticks([])  # Remove y ticks\n",
    "        #ax.axis('off')\n",
    "        if idx == 0:\n",
    "            ax.set_ylabel(genotype_names[cidx], color='black', )\n",
    "        else:\n",
    "            ax.set_ylabel('', color='black',)\n",
    "fig.savefig(os.path.join(analysis_figurepath,f'{figure_key}{pannel_key}.png'),bbox_inches='tight',dpi = 1024)\n",
    "fig.savefig(os.path.join(analysis_figurepath,f'{figure_key}{pannel_key}.pdf'),bbox_inches='tight',dpi = 1024)"
   ]
  },
  {
   "cell_type": "code",
   "execution_count": null,
   "id": "71ffc981",
   "metadata": {},
   "outputs": [],
   "source": [
    "# calculate the spatial distribution of tdTomato+ cells for each subject\n",
    "tdTomato_spatial_cell_count_for_subregion = np.array([[[np.nanmean(subset_heatmap[z,np.where(atlas_img[z,:,:] == target_site_subid)[0],\\\n",
    "                                                                         np.where(atlas_img[z,:,:] == target_site_subid)[1]]) for z in z_unique]\\\n",
    "                                                                              for target_site_subid in target_site_subids] \\\n",
    "                                                                                for subset_heatmap in [genotype1_mean_tdT_heatmap,genotype2_mean_tdT_heatmap]])\n"
   ]
  },
  {
   "cell_type": "code",
   "execution_count": null,
   "id": "50252ffd",
   "metadata": {},
   "outputs": [],
   "source": [
    "# calculate cell count for full region\n",
    "tdTomato_spatial_cell_count_for_full = np.nansum(tdTomato_spatial_cell_count_for_subregion,axis = 1)"
   ]
  },
  {
   "cell_type": "code",
   "execution_count": null,
   "id": "231bb53f",
   "metadata": {},
   "outputs": [],
   "source": [
    "np.save(os.path.join(analysis_resultpath,f'tdTomato_spatial_factors_for_subregion_sum_{target_site_acronym}.npy'),tdTomato_spatial_cell_count_for_full,)\n",
    "np.save(os.path.join(analysis_resultpath,f'tdTomato_spatial_factors_for_subregion_{target_site_acronym}.npy'),tdTomato_spatial_cell_count_for_subregion,)"
   ]
  },
  {
   "cell_type": "code",
   "execution_count": null,
   "id": "9c332385",
   "metadata": {},
   "outputs": [],
   "source": [
    "# split the Acumbens into anterior middle posterior\n",
    "z_anterior,z_medial,z_posterior = np.array_split(z_unique, 3)"
   ]
  },
  {
   "cell_type": "code",
   "execution_count": null,
   "id": "a7f8408c",
   "metadata": {},
   "outputs": [],
   "source": [
    "pannel_key = 'K_tdT'"
   ]
  },
  {
   "cell_type": "code",
   "execution_count": null,
   "id": "d8571297",
   "metadata": {},
   "outputs": [],
   "source": [
    "tdTomato_vmax = 100\n",
    "for  idx,sub_acronym in enumerate(target_site_subacronyms):\n",
    "    genotype_orders = [np.where(np.array([genotype1,genotype2]) == f)[0][0] for f in genotypes]\n",
    "    #tarray = spatial_cell_count_for_subregion[rejected_factor_idx,idx,:]\n",
    "    tarray = tdTomato_spatial_cell_count_for_subregion[genotype_orders,idx,:]\n",
    "    tarray = tarray[:,~np.isnan(tarray[0,:])]\n",
    "\n",
    "\n",
    "    fig,axs = plt.subplots(1,1,figsize = (3,0.6))\n",
    "    sns.heatmap(tarray,ax = axs,cmap = 'YlGn',vmin = 0,vmax= tdTomato_vmax)\n",
    "    axs.set_title(sub_acronym)\n",
    "    axs.set_yticks(np.array(range(len(genotype_orders))) + 0.5)\n",
    "    axs.set_yticklabels(genotype_names,rotation = 0)\n",
    "    axs.set_xticks([0,tarray.shape[1]])\n",
    "    axs.set_xticklabels(['anterior','posterior'])    \n",
    "    \n",
    "    axs.set_xlabel('z position')\n",
    "    fig.savefig(os.path.join(analysis_figurepath,f'{figure_key}{pannel_key}_{sub_acronym}.png'),bbox_inches='tight',dpi = 512)\n",
    "    fig.savefig(os.path.join(analysis_figurepath,f'{figure_key}{pannel_key}_{sub_acronym}.pdf'),bbox_inches='tight',dpi = 512)\n",
    "\n"
   ]
  },
  {
   "cell_type": "code",
   "execution_count": null,
   "id": "ed083a9d",
   "metadata": {},
   "outputs": [],
   "source": [
    "genotype_orders = [np.where(np.array([genotype1,genotype2]) == f)[0][0] for f in genotypes]\n",
    "#tarray = spatial_cell_count_for_subregion[rejected_factor_idx,idx,:]\n",
    "tarray = tdTomato_spatial_cell_count_for_full[genotype_orders,:]\n",
    "tarray = tarray[:,~np.isnan(tarray[0,:])]\n",
    "\n",
    "\n",
    "fig,axs = plt.subplots(1,1,figsize = (3,0.6))\n",
    "sns.heatmap(tarray,ax = axs,cmap = 'YlGn',vmin = 0,vmax= tdTomato_vmax*3)\n",
    "axs.set_title(sub_acronym)\n",
    "axs.set_yticks(np.array(range(len(genotype_orders))) + 0.5)\n",
    "axs.set_yticklabels(genotype_names,rotation = 0)\n",
    "axs.set_xticks([0,tarray.shape[1]])\n",
    "axs.set_xticklabels(['anterior','posterior'])    \n",
    "\n",
    "axs.set_xlabel('z position')\n",
    "fig.savefig(os.path.join(analysis_figurepath,f'{figure_key}{pannel_key}.png'),bbox_inches='tight',dpi = 512)\n",
    "fig.savefig(os.path.join(analysis_figurepath,f'{figure_key}{pannel_key}.pdf'),bbox_inches='tight',dpi = 512)\n",
    "\n"
   ]
  },
  {
   "cell_type": "code",
   "execution_count": null,
   "id": "72c1cc42",
   "metadata": {},
   "outputs": [],
   "source": [
    "# plot the spatial distribution of cells using betacoef\n",
    "#channel_key = 'overlap'\n",
    "vmax = 250\n",
    "pannel_key = 'Y_tdT'\n",
    "channel_key = 'Ex_561_Ch1_stitched'\n",
    "fig, axs = plt.subplots(len(genotypes), len(z_unique[::5]), \n",
    "                        figsize=(len(z_unique[::5])*2, len(Conditions)), sharex=True,sharey = True)\n",
    "\n",
    "for cidx, genotype in enumerate(genotypes):\n",
    "    #theatmap = np.load(os.path.join(analysis_resultpath,f'{channel_key}_{condition}_betas.npy'))\n",
    "    #theatmap = tifffile.imread(os.path.join(analysis_resultpath,f'{genotype}_{channel}_mean_heatmap.tif'))\n",
    "    theatmap = [genotype1_mean_tdT_heatmap,genotype2_mean_tdT_heatmap][cidx]\n",
    "\n",
    "    for idx, curated_zplane in enumerate(z_unique[::5]):\n",
    "        ax = axs[cidx, idx]\n",
    "        image_slice = theatmap[curated_zplane,imy_slice,imx_slice]\n",
    "        contour_slice = contour_img[curated_zplane,imy_slice,imx_slice]\n",
    "        __,overlayed_image = overlap_contour(image_slice,contour_slice,\\\n",
    "        cmin =  0, cmax = vmax,\\\n",
    "        colormap = plt.cm.YlGn,)\n",
    "        trans_img = set_transparency(overlayed_image[:,:], (atlas_img==0)[curated_zplane,imy_slice,imx_slice])\n",
    "        ax.imshow(trans_img)\n",
    "\n",
    "        ax.set_xticks([])  # Remove x ticks\n",
    "        ax.set_yticks([])  # Remove y ticks\n",
    "        #ax.axis('off')\n",
    "        if idx == 0:\n",
    "            ax.set_ylabel(genotype_names[cidx], color='black', )\n",
    "        else:\n",
    "            ax.set_ylabel('', color='black',)\n",
    "fig.savefig(os.path.join(analysis_figurepath,f'{figure_key}{pannel_key}.png'),bbox_inches='tight',dpi = 1024)\n",
    "fig.savefig(os.path.join(analysis_figurepath,f'{figure_key}{pannel_key}.pdf'),bbox_inches='tight',dpi = 1024)"
   ]
  },
  {
   "cell_type": "markdown",
   "id": "4f74f5ef",
   "metadata": {},
   "source": [
    "# Correlation analysis"
   ]
  },
  {
   "cell_type": "code",
   "execution_count": null,
   "id": "5bd27dc4",
   "metadata": {},
   "outputs": [],
   "source": [
    "# read the results from the treeFDR f\n",
    "TreeFDRF_df = pd.read_csv(os.path.join(r\"G:\\My Drive\\Opioid_whole_brain_manuscript\\result\",\\\n",
    "    'TreeFDRF_pvalue_Figure2_C_glm_stat_df_no_batch.csv'),index_col = False)"
   ]
  },
  {
   "cell_type": "code",
   "execution_count": null,
   "id": "98ff1bfa",
   "metadata": {},
   "outputs": [],
   "source": [
    "# get the rejected acronyms\n",
    "rejected_acronyms = TreeFDRF_df[(TreeFDRF_df.acronym.isin(curated_acronyms)) & (TreeFDRF_df.rejected == True)].acronym.values \n",
    "print(len(rejected_acronyms),\" rejected acronyms\")\n",
    "print(rejected_acronyms)\n"
   ]
  },
  {
   "cell_type": "code",
   "execution_count": null,
   "id": "a0665ccd",
   "metadata": {},
   "outputs": [],
   "source": [
    "data_columns = ['Ex_561_Ch1_stitched_newcounts', 'Ex_561_Ch1_stitched_density', \n",
    "        'Ex_639_Ch2_stitched_newcounts',\n",
    "       'Ex_639_Ch2_stitched_density', 'overlap_strict_counts',\n",
    "       'overlap_strict_newcounts', 'overlap_strict_density',\n",
    "       'overlap_over_Ex_561_Ch1_stitched', 'overlap_over_Ex_639_Ch2_stitched',\n",
    "       'F1_Score']"
   ]
  },
  {
   "cell_type": "code",
   "execution_count": null,
   "id": "ff561967",
   "metadata": {},
   "outputs": [],
   "source": [
    "average_df = total_df[['Genotype','acronym'] + data_columns].groupby(['Genotype','acronym']).mean().reset_index()"
   ]
  },
  {
   "cell_type": "code",
   "execution_count": null,
   "id": "3a7e0711",
   "metadata": {},
   "outputs": [],
   "source": [
    "subtract_df = (average_df[average_df.Genotype=='KOR-Cre'].set_index('acronym').drop(columns = ['Genotype']) - average_df[average_df.Genotype=='MOR-Cre'].set_index('acronym').drop(columns = ['Genotype']))/(average_df[average_df.Genotype=='KOR-Cre'].set_index('acronym').drop(columns = ['Genotype']) + average_df[average_df.Genotype=='MOR-Cre'].set_index('acronym').drop(columns = ['Genotype']))"
   ]
  },
  {
   "cell_type": "code",
   "execution_count": null,
   "id": "e28618fe",
   "metadata": {},
   "outputs": [],
   "source": [
    "tdf = subtract_df.loc[acute_rejected_acronyms,:]"
   ]
  },
  {
   "cell_type": "code",
   "execution_count": null,
   "id": "b16cc042",
   "metadata": {},
   "outputs": [],
   "source": [
    "variable1 = 'Ex_561_Ch1_stitched_newcounts'\n",
    "variable2 = 'overlap_strict_density'\n",
    "\n",
    "from statannotations.Annotator import Annotator\n",
    "fig,axs = plt.subplots(1,1,figsize = (4,4,))\n",
    "sns.scatterplot(data = tdf, x = variable1, y = variable2, ax = axs)\n",
    "# draw a linear regression line\n",
    "sns.regplot(data = tdf, x = variable1, y = variable2, ax = axs, scatter=False, color='red', line_kws={'linestyle': '--'})\n",
    "\n",
    "# make the x axis logarithmic\n",
    "#axs.set_xscale('log')\n",
    "# annotate the points with the index of tdf\n",
    "for i, (idx, row) in enumerate(tdf.iterrows()):\n",
    "    # get cleaned_acronym column value in the atlas_df using idx\n",
    "    cleaned_acronym = atlas_df[atlas_df.acronym == idx]['cleaned_acronym'].values[0]\n",
    "    axs.annotate(cleaned_acronym, (row[variable1], row[variable2]), fontsize=8, ha='right', va='bottom')\n",
    "\n",
    "axs.set_ylabel('relative double+ cell density')\n",
    "axs.set_xlabel('relative tdTomato+ cell density (log)')"
   ]
  },
  {
   "cell_type": "code",
   "execution_count": null,
   "id": "7fbbb5f1",
   "metadata": {},
   "outputs": [],
   "source": []
  }
 ],
 "metadata": {
  "kernelspec": {
   "display_name": "scanpy_py",
   "language": "python",
   "name": "python3"
  },
  "language_info": {
   "codemirror_mode": {
    "name": "ipython",
    "version": 3
   },
   "file_extension": ".py",
   "mimetype": "text/x-python",
   "name": "python",
   "nbconvert_exporter": "python",
   "pygments_lexer": "ipython3",
   "version": "3.12.8"
  }
 },
 "nbformat": 4,
 "nbformat_minor": 5
}

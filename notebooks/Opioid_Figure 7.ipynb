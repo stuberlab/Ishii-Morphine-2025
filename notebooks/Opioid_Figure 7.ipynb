{
 "cells": [
  {
   "cell_type": "code",
   "execution_count": null,
   "id": "f18899cc",
   "metadata": {},
   "outputs": [],
   "source": [
    "import os\n",
    "import numpy as np\n",
    "import pandas as pd\n",
    "import shutil\n",
    "from read_roi import read_roi_file\n",
    "import tifffile\n",
    "import matplotlib.pyplot as plt\n",
    "import create_mask_for_region\n",
    "from datetime import datetime\n",
    "from contour_visualization import *\n",
    "\n",
    "#import shap\n",
    "# read heatmap plots\n",
    "#import Heatmap_plots as hmp\n",
    "import seaborn as sns\n",
    "import pickle\n",
    "import tifffile as tiff\n",
    "\n",
    "def flatten_extend(matrix):\n",
    "    flat_list = []\n",
    "    for row in matrix:\n",
    "        flat_list.extend(row)\n",
    "    return flat_list"
   ]
  },
  {
   "cell_type": "code",
   "execution_count": null,
   "id": "e9362011",
   "metadata": {},
   "outputs": [],
   "source": [
    "# set figure key\n",
    "figure_key = 'Figure7'"
   ]
  },
  {
   "cell_type": "code",
   "execution_count": null,
   "id": "3f8233a5",
   "metadata": {},
   "outputs": [],
   "source": [
    "# set paths\n",
    "result_paths = r\"data/lsms/Opioid\"\n",
    "rootpath = r\"G:\\My Drive\\Opioid_whole_brain_manuscript\"\n",
    "metapath = os.path.join(rootpath,\"meta\")\n",
    "analysis_resultpath = os.path.join(rootpath,\"result\")\n",
    "analysis_root_figurepath = os.path.join(rootpath,\"figure\")\n",
    "analysis_figurepath = os.path.join(analysis_root_figurepath,figure_key)\n",
    "for path in [analysis_resultpath,analysis_root_figurepath,analysis_figurepath]:\n",
    "    if not os.path.exists(path):\n",
    "        os.mkdir(path)\n",
    "\n",
    "# load meta info of the files\n",
    "metadf = pd.read_csv(os.path.join(metapath,\"OP_meta.csv\"),index_col= False)\n",
    "# temporary drop of A7 due to missing data\n",
    "metadf = metadf[metadf.ID != 'A7'].reset_index(drop = True)\n",
    "# load brain atlas to register\n",
    "atlas_df = pd.read_csv(r\"data/atlas/atlas_info_KimRef_FPbasedLabel_v4.0_brain_with_size_with_curated_with_cleaned_acronyms.csv\",index_col = False)\n",
    "metacolumns = ['id','acronym','parent_acronym','parent_id','structure_order']\n",
    "contour_img = tifffile.imread(r\"data/atlas/Kim_ref_adult_FP-label_v2.9_contour_map.tif\")\n",
    "# retrieve list of files\n",
    "fnames =  [f for f in metadf.fname.values if 'DONE' in f]"
   ]
  },
  {
   "cell_type": "code",
   "execution_count": null,
   "id": "65a9975d",
   "metadata": {},
   "outputs": [],
   "source": [
    "#Conditions = metadf.Condition.unique()\n",
    "# Use only morphine related groups\n",
    "Conditions = ['Saline','Acute_Morphine','Chronic_Morphine','Withdrawal_Morphine','Chronic_Morphine_21','Withdrawal_Morphine_21',]\n",
    "print(Conditions)\n",
    "\n",
    "# subset the meta dataframe\n",
    "metadf = metadf[metadf.Condition.isin(Conditions)]"
   ]
  },
  {
   "cell_type": "code",
   "execution_count": null,
   "id": "8d6018e1",
   "metadata": {},
   "outputs": [],
   "source": [
    "import matplotlib.pyplot as plt\n",
    "import seaborn as sns\n",
    "import os\n",
    "from adjustText import adjust_text\n",
    "\n",
    "# Set matplotlib parameters for white text on transparent background\n",
    "plt.rcParams.update({\n",
    "    'figure.facecolor': 'none',  # Transparent figure background\n",
    "    'axes.facecolor': 'none',    # Transparent axes background\n",
    "    'axes.edgecolor': 'black',   # White axes edge color\n",
    "    'axes.labelcolor': 'black',  # White axis labels\n",
    "    'xtick.color': 'black',      # White tick labels\n",
    "    'ytick.color': 'black',      # White tick labels\n",
    "    'legend.facecolor': 'none',  # Transparent legend background\n",
    "    'legend.edgecolor': 'none',  # Transparent legend edgecolor\n",
    "    'text.color': 'black',       # White text color\n",
    "    'font.family':'Arial',\n",
    "    'pdf.fonttype':42,\n",
    "    'ps.fonttype':42,\n",
    "   \n",
    "})\n",
    "#important for text to be detected when importing saved figures into illustrator\n"
   ]
  },
  {
   "cell_type": "code",
   "execution_count": null,
   "id": "4a6ffcc4",
   "metadata": {},
   "outputs": [],
   "source": [
    "with open(os.path.join(analysis_resultpath,f'curated_acronym.pickle'), 'rb') as handle:\n",
    "    curated_acronyms = pickle.load(handle)\n",
    "\n",
    "with open(os.path.join(analysis_resultpath,f'ancestor_curated_acronym.pickle'), 'rb') as handle:\n",
    "    ancestor_curated_acronyms = pickle.load(handle,)"
   ]
  },
  {
   "cell_type": "code",
   "execution_count": null,
   "id": "7596e453",
   "metadata": {},
   "outputs": [],
   "source": [
    "default_depth = 4\n",
    "# set heatmap variables\n",
    "vmin= -5\n",
    "vmax = 10\n",
    "\n",
    "#Conditions = metadf.Condition.unique()\n",
    "# Use only morphine related groups\n",
    "Conditions = ['Saline','Acute_Morphine','Chronic_Morphine','Withdrawal_Morphine','Chronic_Morphine_21','Withdrawal_Morphine_21',]\n",
    "print(Conditions)\n",
    "#Condition_figure_name = ['Saline','Acute','Chronic 1 day','W.D. 1 day','Chronic 21 days','W.D. 21 days'] # changed this to betterones\n",
    "Condition_figure_name = ['Saline','Acute','Chronic','Early WD','Re-exposure','Late WD'] \n",
    "Condition_color = ['gray','lime','orange','cyan','blue','purple']\n",
    "# subset the meta dataframe\n",
    "metadf = metadf[metadf.Condition.isin(Conditions)]\n",
    "\n",
    "# load and subset dataframes\n",
    "pivot_heatmap_df = pd.read_csv(os.path.join(analysis_resultpath,'long_pivoted_heatmap_df_with_normalized_density.csv'),index_col = 0)\n",
    "pivot_heatmap_df = pivot_heatmap_df[metadf[metadf.Condition.isin(Conditions)]['ID'].values]\n",
    "merge_df  = pd.read_csv(os.path.join(analysis_resultpath,'Ex_639_Ch2_stitched_long_merge_Annotated_counts_with_leaf_with_density_with_normalized_density.csv'),index_col = 0)\n",
    "merge_df = merge_df[merge_df.Condition.isin(Conditions)]\n",
    "# Load the acronyms for plotting\n",
    "with open(os.path.join(analysis_resultpath,f'curated_acronym.pickle'), 'rb') as handle:\n",
    "    curated_acronyms = pickle.load(handle)\n",
    "\n",
    "with open(os.path.join(analysis_resultpath,f'ancestor_curated_acronym.pickle'), 'rb') as handle:\n",
    "    ancestor_curated_acronyms = pickle.load(handle,)\n"
   ]
  },
  {
   "cell_type": "markdown",
   "id": "a0cdf0ec",
   "metadata": {},
   "source": [
    "remove HB and CBL from the list of ancestores"
   ]
  },
  {
   "cell_type": "code",
   "execution_count": null,
   "id": "930fadc7",
   "metadata": {},
   "outputs": [],
   "source": [
    "# Update the ancestor curated acronyms so it matches the tree devisions\n",
    "unique_ancestor_curated_acronyms = ['Isocortex','OLF','HPF','CTXsp','STR','PAL','TH','HY','MB',]\n",
    "#unique_ancestor_curated_acronyms = ['Isocortex','OLF','HPF','CTXsp','STR','PAL','TH','HY','MB','HB','CBL']\n",
    "\n",
    "# get a list of idx for the ancestors\n",
    "ancestor_names = [atlas_df.loc[atlas_df.acronym == f,'name'].values[0] for f in unique_ancestor_curated_acronyms]\n",
    "ancestor_idxs = [atlas_df.loc[atlas_df.acronym == f,'id'].values[0] for f in unique_ancestor_curated_acronyms]\n",
    "'''\n",
    "curated_acronyms = []\n",
    "ancestor_curated_acronyms = []\n",
    "for idx,i in enumerate(ancestor_idxs):\n",
    "    create_mask_for_region.get_subregions(atlas_df,i,return_original = True)\n",
    "    tdf = create_mask_for_region.get_subregions(atlas_df,i,return_original = True)\n",
    "    curated_acronyms += list(tdf[tdf.Curated_list].acronym)\n",
    "    ancestor_curated_acronyms += [unique_ancestor_curated_acronyms[idx]]*tdf[tdf.Curated_list].shape[0]\n",
    "\n",
    "# save the new list of acronyms\n",
    "with open(os.path.join(analysis_resultpath,f'curated_acronym.pickle'), 'wb') as handle:\n",
    "    pickle.dump(curated_acronyms,handle,)\n",
    "\n",
    "with open(os.path.join(analysis_resultpath,f'ancestor_curated_acronym.pickle'), 'wb') as handle:\n",
    "    pickle.dump(ancestor_curated_acronyms,handle,)'''"
   ]
  },
  {
   "cell_type": "markdown",
   "id": "d58d1dca",
   "metadata": {},
   "source": [
    "remove CBL and MB subtree from the atlas file and the merge_df"
   ]
  },
  {
   "cell_type": "code",
   "execution_count": null,
   "id": "ad9c4d1d",
   "metadata": {},
   "outputs": [],
   "source": [
    "# remove CBL and MB subtree from the data. These regions had bad registration quality and low interest\n",
    "remove_ancestor_ids = atlas_df[(atlas_df.acronym == 'HB') | (atlas_df.acronym == 'CBL')]['id'].values\n",
    "remove_df = pd.concat([create_mask_for_region.get_subregions(atlas_df,idx,return_original = True) for idx in remove_ancestor_ids],axis = 0)\n",
    "sub_atlas_df = atlas_df.set_index(['id']).drop(remove_df['id'].values)\n",
    "merge_df = merge_df[merge_df.acronym.isin(sub_atlas_df.acronym.unique())]"
   ]
  },
  {
   "cell_type": "markdown",
   "id": "ed09adf4",
   "metadata": {},
   "source": [
    "set up the metacolumns to be compatible for GLM"
   ]
  },
  {
   "cell_type": "code",
   "execution_count": null,
   "id": "2e43375a",
   "metadata": {},
   "outputs": [],
   "source": [
    "# load meta info of the files\n",
    "metadf['age'] = [(datetime.strptime( pday, '%m/%d/%Y') - datetime.strptime( dob, '%m/%d/%Y')).days for pday,dob in metadf.loc[:,['Date_Perfusion','DOB']].values]\n",
    "atlasmeta = merge_df.reset_index().loc[merge_df.reset_index().ID =='A1',['id','parent_id','acronym','name','parent_acronym']]\n",
    "\n",
    "#metaexog = metadf[['Condition','Sex','BW','age','Staining_Batch']]\n",
    "#metacolumns = ['Saline','Acute_Morphine','Chronic_Morphine','Sex_d','Batch_d']\n"
   ]
  },
  {
   "cell_type": "code",
   "execution_count": null,
   "id": "0ac2b0e5",
   "metadata": {},
   "outputs": [],
   "source": [
    "# change categorical values to dummy chategories dtypes\n",
    "sex_category = pd.CategoricalDtype(categories=['F', 'M'], ordered=False)\n",
    "condition_category = pd.CategoricalDtype(categories=Conditions, ordered=True)\n",
    "batch_category = pd.CategoricalDtype(categories=[1,2,3,4], ordered=False)\n",
    "\n",
    "merge_df['Sex']             = merge_df['Sex'].astype(sex_category)\n",
    "merge_df['Condition']       = merge_df['Condition'].astype(condition_category)\n",
    "\n",
    "merge_df['Staining_Batch']  = merge_df['Staining_Batch'].astype(batch_category)\n",
    "\n",
    "# create dummy cats\n",
    "condition_dummies           = pd.get_dummies(merge_df['Condition'])\n",
    "sex_dummies                 = pd.get_dummies(merge_df['Sex']).loc[:,['F']].rename(columns = {'F':'Sex_d'}) # female 1\n",
    "batch_dummies = pd.get_dummies(merge_df['Staining_Batch'])\n",
    "batch_dummies.columns = [f'Batch_{c}_d' for c in range(4)]\n",
    "\n",
    "merge_df                    = pd.concat([merge_df,condition_dummies,sex_dummies,batch_dummies],axis =1)"
   ]
  },
  {
   "cell_type": "code",
   "execution_count": null,
   "id": "76febff6",
   "metadata": {},
   "outputs": [],
   "source": [
    "# add flags for conditions\n",
    "#merge_df = pd.merge(merge_df,metadf[['ID','Acute_flag','Chronic_flag','Spontaneous_flag']],left_on = 'ID',right_on = 'ID')"
   ]
  },
  {
   "cell_type": "code",
   "execution_count": null,
   "id": "c523c581",
   "metadata": {},
   "outputs": [],
   "source": [
    "# calculate effect size raw\n",
    "raw_effect_size_df = merge_df[['acronym','Condition','density']].groupby(['acronym','Condition',]).mean().reset_index()\\\n",
    ".pivot(columns = 'Condition',index = 'acronym',values = 'density')"
   ]
  },
  {
   "cell_type": "code",
   "execution_count": null,
   "id": "d2de646a",
   "metadata": {},
   "outputs": [],
   "source": [
    "atlas_df.loc[atlas_df.acronym.isin(curated_acronyms),['acronym','name']].to_csv(os.path.join(metapath,'clean_curated_acronyms.csv'),index = False)"
   ]
  },
  {
   "cell_type": "markdown",
   "id": "4103f27e",
   "metadata": {},
   "source": [
    "Prepare heatmaps into a dictionary format"
   ]
  },
  {
   "cell_type": "code",
   "execution_count": null,
   "id": "5cee0813",
   "metadata": {},
   "outputs": [],
   "source": [
    "# read an annotated atlas file\n",
    "atlas_img = tifffile.imread(r\"data/atlas/Kim_ref_adult_FP-label_v4.0.tif\")"
   ]
  },
  {
   "cell_type": "markdown",
   "id": "08881197",
   "metadata": {},
   "source": [
    "# Regressing spatial gene expression data"
   ]
  },
  {
   "cell_type": "markdown",
   "id": "862e64e5",
   "metadata": {},
   "source": [
    "The gene expression data was collected from the MERFISH dataset from ABI."
   ]
  },
  {
   "cell_type": "markdown",
   "id": "3cfb858a",
   "metadata": {},
   "source": [
    "The code to collect gene expression data from ABI and convert it to the kim atlas framework is in \"collect allen atlas.ipynb\""
   ]
  },
  {
   "cell_type": "markdown",
   "id": "3db08ca9",
   "metadata": {},
   "source": [
    "A total of 1122 genes expression data was collected"
   ]
  },
  {
   "cell_type": "code",
   "execution_count": null,
   "id": "d3c3d3e8",
   "metadata": {},
   "outputs": [],
   "source": [
    "# load the results\n",
    "import scipy as sp\n",
    "import dask.array as da\n",
    "\n",
    "gene_matrixpath = r\"data/opioid_cfos/gene_expression.zarr\"\n",
    "\n",
    "# write as zarr array to os.path.join(analysis_resultpah,'heatmap_array.zarr')\n",
    "gene_matrix = da.from_zarr(gene_matrixpath, mode=\"r\")"
   ]
  },
  {
   "cell_type": "code",
   "execution_count": null,
   "id": "4f167635",
   "metadata": {},
   "outputs": [],
   "source": [
    "# the meta data is stored in the gene_list\n",
    "gene_list = pd.read_csv(r\"data/allen_alignment/summarized_data/gene_df.csv\",index_col = 0)"
   ]
  },
  {
   "cell_type": "markdown",
   "id": "9d920777",
   "metadata": {},
   "source": [
    "# Conduct co-sign similarity analysis"
   ]
  },
  {
   "cell_type": "code",
   "execution_count": null,
   "id": "4d38f22f",
   "metadata": {},
   "outputs": [],
   "source": [
    "from sklearn.metrics.pairwise import cosine_similarity\n",
    "import numpy as np"
   ]
  },
  {
   "cell_type": "code",
   "execution_count": null,
   "id": "da66bf49",
   "metadata": {},
   "outputs": [],
   "source": [
    "# swap the axis\n",
    "gene_matrix = gene_matrix.reshape([gene_matrix.shape[0]] + list(atlas_img.T.shape)).transpose(0, 3, 2, 1).reshape(1122, -1)\n"
   ]
  },
  {
   "cell_type": "code",
   "execution_count": null,
   "id": "85e8116e",
   "metadata": {},
   "outputs": [],
   "source": [
    "# remove the hemisphere\n",
    "hemi_gene_matrix = gene_matrix.reshape([gene_matrix.shape[0]] + list(atlas_img.shape))[:,:,:,:atlas_img.shape[2]//2].reshape(1122, -1)\n",
    "hemi_gene_matrix = hemi_gene_matrix[:,brain_voxels].compute()"
   ]
  },
  {
   "cell_type": "markdown",
   "id": "3a56801d",
   "metadata": {},
   "source": [
    "### subset to nucleus of accumbens"
   ]
  },
  {
   "cell_type": "code",
   "execution_count": null,
   "id": "1b93e22b",
   "metadata": {},
   "outputs": [],
   "source": [
    "# or boolean vectors\n",
    "target_acronym = 'Acb'\n",
    "brain_voxels = np.sum([hemi_atlas_img == f for f in atlas_df[atlas_df['parent_acronym'] == target_acronym]['id'].values],axis = 0)>0\n",
    "brain_voxels = brain_voxels.flatten()"
   ]
  },
  {
   "cell_type": "markdown",
   "id": "4210d57b",
   "metadata": {},
   "source": [
    "## Run correlations"
   ]
  },
  {
   "cell_type": "markdown",
   "id": "f14554a0",
   "metadata": {},
   "source": [
    "The co-sign similarity result was drawn too much by the total expression. The gene expression voxels are more sparse and the pearson correlation fits better."
   ]
  },
  {
   "cell_type": "code",
   "execution_count": null,
   "id": "508c6611",
   "metadata": {},
   "outputs": [],
   "source": [
    "from scipy.stats import pearsonr\n",
    "from tqdm import tqdm"
   ]
  },
  {
   "cell_type": "code",
   "execution_count": null,
   "id": "3376cffb",
   "metadata": {},
   "outputs": [],
   "source": [
    "# set condition\n",
    "for condition in Conditions[1:]:\n",
    "    betacoef = np.load(os.path.join(r\"data/opioid_cfos/result\",f\"{condition}_betas.npy\"),)\n",
    "    # create a hemisphere average\n",
    "    hemi_betacoef = (betacoef[:,:,:atlas_img.shape[2]//2] + betacoef[:,:,atlas_img.shape[2]//2:][:,:,::-1])/2\n",
    "\n",
    "    # conduct correlation analysis\n",
    "    rvals,pvals = pearsonr(hemi_betacoef.flatten()[brain_voxels].reshape(-1,1), hemi_gene_matrix.T)\n",
    "    \n",
    "    # store the result\n",
    "    gene_list[f'{target_acronym}_{condition}_pearson_rvals'] = rvals\n",
    "    gene_list[f'{target_acronym}_{condition}_pearson_pvals'] = pvals\n",
    "    \n",
    "    # print the results\n",
    "    print(gene_list.loc[np.argsort(rvals)[::-1],:].head(20).gene_symbol.values)"
   ]
  },
  {
   "cell_type": "code",
   "execution_count": null,
   "id": "49141f42",
   "metadata": {},
   "outputs": [],
   "source": [
    "fig,axs = plt.subplots(len(Conditions[1:]),1,figsize= (4,0.75*len(Conditions[1:])),sharey = True,sharex = True)\n",
    "for idx,condition in enumerate(Conditions[1:]):\n",
    "    ax = axs[idx]\n",
    "    sns.scatterplot(data= gene_list,\n",
    "                x = f'{target_acronym}_{condition}_pearson_rvals',\n",
    "                y = f'{target_acronym}_{condition}_pearson_pvals',ax = ax,size = 3,color = Condition_color[idx+1],\\\n",
    "                    legend = False)\n",
    "    ax.set_yscale('log')\n",
    "    ax.invert_yaxis()\n",
    "    ax.set_xlim(-0.2,0.2)\n",
    "    ax.set_xlabel('Pearsons correlation')\n",
    "    ax.set_ylabel(Condition_figure_name[1+idx],rotation = 0)\n",
    "    sns.despine()\n",
    "    #ax.axhline(5e-5)\n",
    "\n"
   ]
  },
  {
   "cell_type": "code",
   "execution_count": null,
   "id": "e27551e0",
   "metadata": {},
   "outputs": [],
   "source": [
    "atlas_df[atlas_df.parent_acronym == 'Acb']"
   ]
  },
  {
   "cell_type": "code",
   "execution_count": null,
   "id": "2f895983",
   "metadata": {},
   "outputs": [],
   "source": [
    "pannel_key = 'B'\n",
    "condition1 = 'Acute_Morphine'\n",
    "condition2 = 'Withdrawal_Morphine'\n",
    "fig,axs = plt.subplots(1,1,figsize = (3,3,))\n",
    "sns.scatterplot(data= gene_list,\n",
    "            x = f'{target_acronym}_{condition1}_pearson_rvals',\n",
    "            y = f'{target_acronym}_{condition2}_pearson_rvals',ax = axs,size = 3)\n",
    "\n",
    "axs.set_ylim(-.5,.5)\n",
    "axs.set_xlim(-.5,.5)\n",
    "# create a list of genes to annotate, top 10\n",
    "annotation_gene_index = gene_list.sort_values(by = f'{target_acronym}_{condition1}_pearson_rvals',ascending= False).head(10).index.to_list()\\\n",
    "                    + gene_list.sort_values(by = f'{target_acronym}_{condition2}_pearson_rvals',ascending= False).head(10).index.to_list()\n",
    "threshold1 = gene_list[f'{target_acronym}_{condition1}_pearson_rvals'].std() * 2\\\n",
    "    + gene_list[f'{target_acronym}_{condition1}_pearson_rvals'].mean()\n",
    "threshold2 = gene_list[f'{target_acronym}_{condition2}_pearson_rvals'].std() * 2\\\n",
    "    + gene_list[f'{target_acronym}_{condition2}_pearson_rvals'].mean()\n",
    "\n",
    "# Annotating the points with brain region names\n",
    "texts = []\n",
    "for i, gene_idx in enumerate(annotation_gene_index):\n",
    "    gene_symbol = gene_list.loc[gene_idx,'gene_symbol']\n",
    "\n",
    "    texts.append(axs.text(\n",
    "        gene_list.loc[gene_idx,f'{target_acronym}_{condition1}_pearson_rvals'],\\\n",
    "        gene_list.loc[gene_idx,f'{target_acronym}_{condition2}_pearson_rvals'],\n",
    "                            gene_symbol, fontsize=10, alpha=1,color='k'))\n",
    "\n",
    "# Adjust the text annotations to minimize overlap\n",
    "adjust_text(texts,ax = axs, arrowprops=dict(color='gray',alpha=1, lw=0.5))\n",
    "\n",
    "axs.axhline(threshold2,ls = ':',color = 'gray',alpha = 0.7)\n",
    "axs.axhline(-threshold2,ls = ':',color = 'gray',alpha = 0.7)\n",
    "axs.axvline(threshold1,ls = ':',color = 'gray',alpha = 0.7)\n",
    "axs.axvline(-threshold1,ls = ':',color = 'gray',alpha = 0.7)\n",
    "\n",
    "fig.savefig(os.path.join(analysis_figurepath,f'{tfigure_key}{pannel_key}.png'),bbox_inches='tight',dpi = 216)\n",
    "fig.savefig(os.path.join(analysis_figurepath,f'{tfigure_key}{pannel_key}.pdf'),bbox_inches='tight',dpi = 216)"
   ]
  },
  {
   "cell_type": "code",
   "execution_count": null,
   "id": "7eed95c6",
   "metadata": {},
   "outputs": [],
   "source": []
  },
  {
   "cell_type": "code",
   "execution_count": null,
   "id": "8f59ece1",
   "metadata": {},
   "outputs": [],
   "source": [
    "pannel_key = 'C'\n",
    "condition1 = 'Chronic_Morphine'\n",
    "condition2 = 'Withdrawal_Morphine'\n",
    "\n",
    "fig,axs = plt.subplots(1,1,figsize = (3,3,))\n",
    "sns.scatterplot(data= gene_list,\n",
    "            x = f'{target_acronym}_{condition1}_pearson_rvals',\n",
    "            y = f'{target_acronym}_{condition2}_pearson_rvals',ax = axs,size = 3)\n",
    "\n",
    "axs.set_ylim(-.5,.5)\n",
    "axs.set_xlim(-.5,.5)\n",
    "# create a list of genes to annotate, top 10\n",
    "annotation_gene_index = gene_list.sort_values(by = f'{target_acronym}_{condition1}_pearson_rvals',ascending= False).head(10).index.to_list()\\\n",
    "                    + gene_list.sort_values(by = f'{target_acronym}_{condition2}_pearson_rvals',ascending= False).head(10).index.to_list()\n",
    "annotation_gene_index = np.unique(annotation_gene_index)\n",
    "threshold1 = gene_list[f'{target_acronym}_{condition1}_pearson_rvals'].std() * 2\\\n",
    "    + gene_list[f'{target_acronym}_{condition1}_pearson_rvals'].mean()\n",
    "threshold2 = gene_list[f'{target_acronym}_{condition2}_pearson_rvals'].std() * 2\\\n",
    "    + gene_list[f'{target_acronym}_{condition2}_pearson_rvals'].mean()\n",
    "\n",
    "# Annotating the points with brain region names\n",
    "texts = []\n",
    "for i, gene_idx in enumerate(annotation_gene_index):\n",
    "    gene_symbol = gene_list.loc[gene_idx,'gene_symbol']\n",
    "\n",
    "    texts.append(axs.text(\n",
    "        gene_list.loc[gene_idx,f'{target_acronym}_{condition1}_pearson_rvals'],\\\n",
    "        gene_list.loc[gene_idx,f'{target_acronym}_{condition2}_pearson_rvals'],\n",
    "                            gene_symbol, fontsize=10, alpha=1,color='k'))\n",
    "\n",
    "# Adjust the text annotations to minimize overlap\n",
    "adjust_text(texts,ax = axs, arrowprops=dict(color='gray',alpha=1, lw=0.5))\n",
    "\n",
    "axs.axhline(threshold2,ls = ':',color = 'gray',alpha = 0.7)\n",
    "axs.axhline(-threshold2,ls = ':',color = 'gray',alpha = 0.7)\n",
    "axs.axvline(threshold1,ls = ':',color = 'gray',alpha = 0.7)\n",
    "axs.axvline(-threshold1,ls = ':',color = 'gray',alpha = 0.7)\n",
    "fig.savefig(os.path.join(analysis_figurepath,f'{tfigure_key}{pannel_key}.png'),bbox_inches='tight',dpi = 216)\n",
    "fig.savefig(os.path.join(analysis_figurepath,f'{tfigure_key}{pannel_key}.pdf'),bbox_inches='tight',dpi = 216)"
   ]
  },
  {
   "cell_type": "code",
   "execution_count": null,
   "id": "3c38a04f",
   "metadata": {},
   "outputs": [],
   "source": [
    "pannel_key = 'D'\n",
    "condition1 = 'Acute_Morphine'\n",
    "condition2 = 'Chronic_Morphine'\n",
    "\n",
    "fig,axs = plt.subplots(1,1,figsize = (3,3,))\n",
    "sns.scatterplot(data= gene_list,\n",
    "            x = f'{target_acronym}_{condition1}_pearson_rvals',\n",
    "            y = f'{target_acronym}_{condition2}_pearson_rvals',ax = axs,size = 3)\n",
    "\n",
    "axs.set_ylim(-.5,.5)\n",
    "axs.set_xlim(-.5,.5)\n",
    "# create a list of genes to annotate, top 10\n",
    "annotation_gene_index = gene_list.sort_values(by = f'{target_acronym}_{condition1}_pearson_rvals',ascending= False).head(10).index.to_list()\\\n",
    "                    + gene_list.sort_values(by = f'{target_acronym}_{condition2}_pearson_rvals',ascending= False).head(10).index.to_list()\n",
    "annotation_gene_index = np.unique(annotation_gene_index)\n",
    "\n",
    "threshold1 = gene_list[f'{target_acronym}_{condition1}_pearson_rvals'].std() * 2\\\n",
    "    + gene_list[f'{target_acronym}_{condition1}_pearson_rvals'].mean()\n",
    "threshold2 = gene_list[f'{target_acronym}_{condition2}_pearson_rvals'].std() * 2\\\n",
    "    + gene_list[f'{target_acronym}_{condition2}_pearson_rvals'].mean()\n",
    "\n",
    "# Annotating the points with brain region names\n",
    "texts = []\n",
    "for i, gene_idx in enumerate(annotation_gene_index):\n",
    "    gene_symbol = gene_list.loc[gene_idx,'gene_symbol']\n",
    "\n",
    "    texts.append(axs.text(\n",
    "        gene_list.loc[gene_idx,f'{target_acronym}_{condition1}_pearson_rvals'],\\\n",
    "        gene_list.loc[gene_idx,f'{target_acronym}_{condition2}_pearson_rvals'],\n",
    "                            gene_symbol, fontsize=10, alpha=1,color='k'))\n",
    "\n",
    "# Adjust the text annotations to minimize overlap\n",
    "adjust_text(texts,ax = axs, arrowprops=dict(color='gray',alpha=1, lw=0.5))\n",
    "\n",
    "axs.axhline(threshold2,ls = ':',color = 'gray',alpha = 0.7)\n",
    "axs.axhline(-threshold2,ls = ':',color = 'gray',alpha = 0.7)\n",
    "axs.axvline(threshold1,ls = ':',color = 'gray',alpha = 0.7)\n",
    "axs.axvline(-threshold1,ls = ':',color = 'gray',alpha = 0.7)\n",
    "fig.savefig(os.path.join(analysis_figurepath,f'{tfigure_key}{pannel_key}.png'),bbox_inches='tight',dpi = 216)\n",
    "fig.savefig(os.path.join(analysis_figurepath,f'{tfigure_key}{pannel_key}.pdf'),bbox_inches='tight',dpi = 216)"
   ]
  },
  {
   "cell_type": "code",
   "execution_count": null,
   "id": "d8747e0d",
   "metadata": {},
   "outputs": [],
   "source": [
    "tfigure_key = figure_key + '-supplemental figure1'\n",
    "pannel_key = 'E'"
   ]
  },
  {
   "cell_type": "code",
   "execution_count": null,
   "id": "94527f2e",
   "metadata": {},
   "outputs": [],
   "source": [
    "fig,axs = plt.subplots(1,len(Conditions[1:]),figsize = (1 * len(Conditions[1:]),5),sharex = True)\n",
    "for idx,condition in enumerate(Conditions[1:]):\n",
    "    ax = axs[idx]\n",
    "    variable = f'{target_acronym}_{condition}_pearson_rvals'\n",
    "    sns.barplot(data = gene_list.sort_values(by = variable,ascending = False)[:25],\\\n",
    "        x = variable,y = 'gene_symbol',ax = ax,color = Condition_color[idx+1])\n",
    "    ax.set_title(Condition_figure_name[idx+1])\n",
    "    sns.despine()\n",
    "    ax.set_xlabel('Correlation')\n",
    "fig.savefig(os.path.join(analysis_figurepath,f'{tfigure_key}{pannel_key}.png'),bbox_inches='tight',dpi = 216)\n",
    "fig.savefig(os.path.join(analysis_figurepath,f'{tfigure_key}{pannel_key}.pdf'),bbox_inches='tight',dpi = 216)"
   ]
  },
  {
   "cell_type": "code",
   "execution_count": null,
   "id": "ac4ef80b",
   "metadata": {},
   "outputs": [],
   "source": [
    "figure_key = 'Figure7'\n",
    "pannel_key = 'D'"
   ]
  },
  {
   "cell_type": "code",
   "execution_count": null,
   "id": "cfc4e5cc",
   "metadata": {},
   "outputs": [],
   "source": [
    "# genes of interest\n",
    "genes_of_interest = ['Kcnip1','Calcr','Ccn3'][:-1]\n",
    "\n",
    "fig,axs = plt.subplots(1,len(genes_of_interest),sharex = True,sharey = True,figsize=  (1.2,1))\n",
    "for idx,gene in enumerate(genes_of_interest):\n",
    "    ax = axs[idx]\n",
    "    tdf = gene_list.loc[gene_list.gene_symbol == gene,['gene_symbol']+[f'{target_acronym}_{f}_pearson_rvals' for f in Conditions[1:]]].set_index('gene_symbol').stack().reset_index().rename(columns = {'level_1':'Condition',0:'coef'})\n",
    "    sns.barplot(data = tdf,x = 'coef',y = 'Condition',palette = Condition_color[1:],ax= ax)\n",
    "    ax.set_yticklabels(Condition_figure_name[1:])\n",
    "    ax.set_xticks([-.3,0,.3])\n",
    "    sns.despine()\n",
    "    ax.set_title(gene)\n",
    "fig.savefig(os.path.join(analysis_figurepath,f'{figure_key}{pannel_key}.png'),bbox_inches='tight',dpi = 216)\n",
    "fig.savefig(os.path.join(analysis_figurepath,f'{figure_key}{pannel_key}.pdf'),bbox_inches='tight',dpi = 216)"
   ]
  },
  {
   "cell_type": "markdown",
   "id": "21e517b3",
   "metadata": {},
   "source": [
    "## Plot the actual gene images"
   ]
  },
  {
   "cell_type": "code",
   "execution_count": null,
   "id": "a2f82684",
   "metadata": {},
   "outputs": [],
   "source": [
    "# target site can be experiment specific\n",
    "target_site_acronym = 'Acb'\n",
    "target_site_id = atlas_df.loc[atlas_df.acronym == target_site_acronym,'id'].values[0]\n",
    "target_site_subids = create_mask_for_region.get_subregions(atlas_df,target_site_id,return_original=True)['id'].values\n"
   ]
  },
  {
   "cell_type": "code",
   "execution_count": null,
   "id": "bfffba1e",
   "metadata": {},
   "outputs": [],
   "source": [
    "# collect all the z positions where there is the target site\n",
    "zs = np.array([])\n",
    "for ID in target_site_subids:\n",
    "    z_,y_,x_ = np.where(atlas_img == ID)\n",
    "    zs = np.concatenate([zs,z_])\n",
    "# find the center of mass of the OFC\n",
    "z_unique = np.unique(zs).astype('uint16')\n",
    "z_center = int(np.mean(zs))\n"
   ]
  },
  {
   "cell_type": "code",
   "execution_count": null,
   "id": "35a84382",
   "metadata": {},
   "outputs": [],
   "source": [
    "# subset to NAc region\n",
    "xslice = slice(325-120,325,)\n",
    "yslice = slice(240,240+120)"
   ]
  },
  {
   "cell_type": "code",
   "execution_count": null,
   "id": "6f01475f",
   "metadata": {},
   "outputs": [],
   "source": [
    "import numpy as np\n",
    "\n",
    "def set_transparency(rgba_img, mask):\n",
    "    \"\"\"\n",
    "    Applies a transparency mask to an existing RGBA image.\n",
    "\n",
    "    Parameters:\n",
    "    - rgba_img: np.ndarray of shape (H, W, 4), dtype uint8\n",
    "        The input RGBA image.\n",
    "    - mask: np.ndarray of shape (H, W), dtype bool\n",
    "        Boolean mask where True means the pixel should be transparent.\n",
    "\n",
    "    Returns:\n",
    "    - np.ndarray of shape (H, W, 4), modified RGBA image.\n",
    "    \"\"\"\n",
    "    if rgba_img.shape[-1] != 4:\n",
    "        raise ValueError(\"Input image must be RGBA (shape must be H x W x 4).\")\n",
    "    if rgba_img.shape[:2] != mask.shape:\n",
    "        raise ValueError(\"Mask shape must match image height and width.\")\n",
    "\n",
    "    # Copy to avoid modifying the original\n",
    "    result = rgba_img.copy()\n",
    "    result[mask, 3] = 0  # Set alpha to 0 (transparent) where mask is True\n",
    "    return result\n"
   ]
  },
  {
   "cell_type": "code",
   "execution_count": null,
   "id": "2755f44d",
   "metadata": {},
   "outputs": [],
   "source": [
    "# plot the spatial distribution of double+ cells for each subject\n",
    "import contour_visualization2 as cv2\n",
    "tfigure_key = figure_key + '-supplemental figure1'\n",
    "pannel_key = 'A'\n",
    "\n",
    "for condition in Conditions[1:]:\n",
    "    # create a list of genes to annotate, top 10\n",
    "    annotation_gene_index = gene_list.sort_values(by = f'{target_acronym}_{condition}_pearson_rvals',ascending= False).head(10).index.to_list()\n",
    "\n",
    "    fig, axs = plt.subplots(len(annotation_gene_index), len(z_unique[::5]), figsize=(len(z_unique[::5])*1.25, len(annotation_gene_index)-1), sharex=True,sharey = True)\n",
    "\n",
    "\n",
    "    for cidx, gene_idx in enumerate(annotation_gene_index):\n",
    "        theatmap = gene_matrix[gene_idx,:].reshape(atlas_img.shape).compute()\n",
    "        gene_symbol = gene_list.loc[gene_idx,'gene_symbol']\n",
    "        #theatmap = np.load(os.path.join(r\"data/opioid_cfos/result\",f'{condition}_betas.npy'))\n",
    "        #theatmap = np.mean(np.array([heatmap_dict[condition][subject] for subject in heatmap_dict[condition].keys()]),axis = 0)\n",
    "        __,overlayed_image = cv2.overlap_contour(theatmap,contour_img,\\\n",
    "            cmin =  -0, cmax = 1,\\\n",
    "            outputpath = None,colormap = plt.cm.viridis)\n",
    "        for idx, curated_zplane in enumerate(z_unique[::5]):\n",
    "            ax = axs[cidx, idx]\n",
    "            trans_img = set_transparency(overlayed_image[curated_zplane,:,:], (atlas_img==0)[curated_zplane,:,:])\n",
    "            ax.imshow(trans_img[yslice,xslice])\n",
    "            #ax.imshow(overlayed_image[curated_zplane,yslice,xslice],cmap = 'viridis')\n",
    "            ax.set_xticks([])  # Remove x ticks\n",
    "            ax.set_yticks([])  # Remove y ticks\n",
    "            #ax.axis('off')\n",
    "            if idx == 0:\n",
    "                ax.set_ylabel(gene_symbol, color='black', )\n",
    "            else:\n",
    "                ax.set_ylabel('', color='black',)\n",
    "            ax.invert_xaxis()\n",
    "    fig.savefig(os.path.join(analysis_figurepath,f'{tfigure_key}{pannel_key}_{condition}.png'),bbox_inches='tight',dpi = 1024)\n",
    "    fig.savefig(os.path.join(analysis_figurepath,f'{tfigure_key}{pannel_key}_{condition}.svg'),bbox_inches='tight',dpi = 1024)"
   ]
  },
  {
   "cell_type": "markdown",
   "id": "87c62db3",
   "metadata": {},
   "source": [
    "# Prepare spatial neural data"
   ]
  },
  {
   "cell_type": "markdown",
   "id": "e4dcb746",
   "metadata": {},
   "source": [
    "The spatial data (betacoef from linear regression/factors from semi-nnmf) are first averaged across hemisphere and then downsampled."
   ]
  },
  {
   "cell_type": "markdown",
   "id": "7e5deee4",
   "metadata": {},
   "source": [
    "## Prepare hemi atlas"
   ]
  },
  {
   "cell_type": "code",
   "execution_count": null,
   "id": "8bc2b51a",
   "metadata": {},
   "outputs": [],
   "source": [
    "# create a hemisphere brain atlas\n",
    "hemi_atlas_img = atlas_img[:,:,:atlas_img.shape[2]//2]\n",
    "#hemi_atlas_img = np.reshape(hemi_atlas_img.T.flatten().T,hemi_atlas_img.shape[::-1])"
   ]
  },
  {
   "cell_type": "markdown",
   "id": "9d2a54e0",
   "metadata": {},
   "source": [
    "## For betacoef"
   ]
  },
  {
   "cell_type": "code",
   "execution_count": null,
   "id": "c9bf202c",
   "metadata": {},
   "outputs": [],
   "source": []
  },
  {
   "cell_type": "code",
   "execution_count": null,
   "id": "d3553359",
   "metadata": {},
   "outputs": [],
   "source": [
    "'''# read the beatcoef array\n",
    "condition = 'Withdrawal_Morphine'\n",
    "for condition in Conditions:\n",
    "    betacoef = np.load(os.path.join(r\"data/opioid_cfos/result\",f'{condition}_betas.npy'))\n",
    "    # preprocess betacoef to match the hemisphere data\n",
    "    betacoef = (betacoef[:,:,:atlas_img.shape[2]//2] + betacoef[:,:,atlas_img.shape[2]//2:][:,:,::-1])/2\n",
    "    betacoef = betacoef.T.flatten()\n",
    "\n",
    "    betacoef_reshaped = da.from_array(\n",
    "        np.reshape(betacoef, hemi_atlas_img.shape), chunks=(100, 100, 50)\n",
    "    )\n",
    "    \n",
    "    # Define downsampling factors\n",
    "    downsample_factors = (1, 5, 5, 2)  # Keeping gene_dim the same\n",
    "\n",
    "    # Convert tuple to dictionary format for da.coarsen()\n",
    "    downsample_dict = {1: 5, 2: 5, 3: 2}  # Apply downsampling only on spatial axes\n",
    "\n",
    "    # Downsample using dask's coarsen function with mean pooling\n",
    "    \n",
    "    betacoef_downsampled = da.coarsen(np.mean, betacoef_reshaped, {0: 5, 1: 5, 2: 2}, trim_excess=True)\n",
    "\n",
    "    betacoef_downsampled = betacoef_downsampled.flatten().compute()\n",
    "\n",
    "    # Check shapes of downsampled arrays\n",
    "    print(\"Downsampled Betacoef Shape:\", betacoef_downsampled.shape)\n",
    "    np.save(os.path.join(r\"data/opioid_cfos/result\",f\"{condition}_betacoef_downsampled.npy\"),betacoef_downsampled)'''"
   ]
  },
  {
   "cell_type": "markdown",
   "id": "7f09352e",
   "metadata": {},
   "source": [
    "## For factors"
   ]
  },
  {
   "cell_type": "code",
   "execution_count": null,
   "id": "dd0ecb35",
   "metadata": {},
   "outputs": [],
   "source": [
    "'''# read the factor array\n",
    "factor_path = os.path.join(r\"data/spatial_clustering_results/2025_04_02-12_34\",\"npy\")\n",
    "for fidx in range(22):\n",
    "    factor_array = np.load(os.path.join(factor_path,f'factor{fidx}.npy'))\n",
    "    # preprocess factor_array to match the hemisphere data\n",
    "    factor_array = (factor_array[:,:,:atlas_img.shape[2]//2] + factor_array[:,:,atlas_img.shape[2]//2:][:,:,::-1])/2\n",
    "    factor_array = factor_array.T.flatten()\n",
    "\n",
    "    factor_array_reshaped = da.from_array(\n",
    "        np.reshape(factor_array, hemi_atlas_img.shape), chunks=(100, 100, 50)\n",
    "    )\n",
    "    \n",
    "    # Define downsampling factors\n",
    "    downsample_factors = (1, 5, 5, 2)  # Keeping gene_dim the same\n",
    "\n",
    "    # Convert tuple to dictionary format for da.coarsen()\n",
    "    downsample_dict = {1: 5, 2: 5, 3: 2}  # Apply downsampling only on spatial axes\n",
    "\n",
    "    # Downsample using dask's coarsen function with mean pooling\n",
    "    \n",
    "    factor_array_downsampled = da.coarsen(np.mean, factor_array_reshaped, {0: 5, 1: 5, 2: 2}, trim_excess=True)\n",
    "\n",
    "    factor_array_downsampled = factor_array_downsampled.flatten().compute()\n",
    "\n",
    "    # Check shapes of downsampled arrays\n",
    "    print(\"Downsampled factor_array Shape:\", factor_array_downsampled.shape)\n",
    "    np.save(os.path.join(r\"data/opioid_cfos/result\",f\"factor{fidx}_array_downsampled.npy\"),factor_array_downsampled)'''"
   ]
  },
  {
   "cell_type": "code",
   "execution_count": null,
   "id": "90f9138d",
   "metadata": {},
   "outputs": [],
   "source": [
    "condition_key = 'NAc_'\n",
    "gene_list= pd.read_csv(os.path.join(analysis_resultpath,f'{condition_key}_gene_list.csv'),index_col = False)"
   ]
  },
  {
   "cell_type": "markdown",
   "id": "004320d4",
   "metadata": {},
   "source": [
    "# In situ analysis"
   ]
  },
  {
   "cell_type": "markdown",
   "id": "ff2b48e4",
   "metadata": {},
   "source": [
    "## Preparation"
   ]
  },
  {
   "cell_type": "code",
   "execution_count": null,
   "id": "a274f581",
   "metadata": {},
   "outputs": [],
   "source": [
    "# read a meta file for sections\n",
    "section_metadf = pd.read_excel(os.path.join(metapath,\"NAc_ISH_meta_v3.xlsx\"),engine='openpyxl')\n",
    "section_metadf = section_metadf[section_metadf.Usable]\n",
    "section_metadf = section_metadf.rename(columns = {'Section':'section'})\n",
    "#filter_list = section_metadf[['ID','Check']].rename(columns = {'Check':'section'})\n",
    "#filter_list = [tuple(f) for f in filter_list.values]\n"
   ]
  },
  {
   "cell_type": "code",
   "execution_count": null,
   "id": "daf6e5a7",
   "metadata": {},
   "outputs": [],
   "source": [
    "# read the dataframe\n",
    "total_merge_cell_df = pd.read_csv(os.path.join(analysis_resultpath,f'{figure_key}_total_merge_cell_df.csv'),index_col = 0)\n",
    "\n",
    "# drop the background\n",
    "total_merge_cell_df = total_merge_cell_df.drop(0)\n",
    "\n",
    "# drop the conditions that are not in the analysis plan\n",
    "insitu_Conditions = ['Saline','Acute_Morphine', 'Chronic_Morphine', 'Withdrawal_Morphine']\n",
    "total_merge_cell_df = total_merge_cell_df[total_merge_cell_df.Condition.isin(insitu_Conditions)]\n"
   ]
  },
  {
   "cell_type": "code",
   "execution_count": null,
   "id": "71a04ca1",
   "metadata": {},
   "outputs": [],
   "source": [
    "# subset the dataframe to the ones that are usable\n",
    "total_merge_cell_df.section = total_merge_cell_df.section.astype('int')\n",
    "total_merge_cell_df = section_metadf.set_index(['ID','section'])[['Usable']].join(total_merge_cell_df.set_index(['ID','section'])).reset_index()\n"
   ]
  },
  {
   "cell_type": "code",
   "execution_count": null,
   "id": "7171ecfa",
   "metadata": {},
   "outputs": [],
   "source": [
    "# count threshold\n",
    "count_threshold = 5 # dots"
   ]
  },
  {
   "cell_type": "code",
   "execution_count": null,
   "id": "9c4a5737",
   "metadata": {},
   "outputs": [],
   "source": [
    "# gene\n",
    "genes = [f.replace('_FFT_intensity','') for f in total_merge_cell_df.columns if '_FFT_intensity' in f]\n",
    "gene = 'Fos'\n",
    "\n",
    "# calculate the positive cells\n",
    "for gene in genes:\n",
    "    total_merge_cell_df[f'{gene}_cells'] = total_merge_cell_df[f'{gene}_regressed_counts'] > count_threshold\n",
    "    total_merge_cell_df[f'{gene}_sum_raw_intensity'] = total_merge_cell_df[f'{gene}_raw_intensity']*total_merge_cell_df[f'{gene}_counts']"
   ]
  },
  {
   "cell_type": "code",
   "execution_count": null,
   "id": "76f1a8b5",
   "metadata": {},
   "outputs": [],
   "source": [
    "# add core/shell info to the dataframe\n",
    "core_cell_df = total_merge_cell_df[(total_merge_cell_df.Core_cells == True)&(total_merge_cell_df.Shell_cells == False)]\n",
    "shell_cell_df = total_merge_cell_df[(total_merge_cell_df.Core_cells == False)&(total_merge_cell_df.Shell_cells == True)]"
   ]
  },
  {
   "cell_type": "code",
   "execution_count": null,
   "id": "538a6ec0",
   "metadata": {},
   "outputs": [],
   "source": [
    "# select the dataframe to analyze\n",
    "tcell_df = core_cell_df\n",
    "for idx,tcell_df in enumerate([core_cell_df, shell_cell_df]):\n",
    "    t_group_cell_df = tcell_df.groupby(['Condition','ID','section']).mean().reset_index()\n",
    "    if idx == 0:\n",
    "        group_cell_df = t_group_cell_df\n",
    "    else:\n",
    "        group_cell_df = pd.concat([group_cell_df,t_group_cell_df],axis = 0)\n",
    "    "
   ]
  },
  {
   "cell_type": "code",
   "execution_count": null,
   "id": "3938ddb3",
   "metadata": {},
   "outputs": [],
   "source": [
    "# subset the dataframe to the ones that are usable\n",
    "group_cell_df.section = group_cell_df.section.astype('int')\n",
    "#group_cell_df = section_metadf.set_index(['ID','section'])[['Usable']].join(group_cell_df.set_index(['ID','section'])).reset_index()\n",
    "# write the result\n",
    "group_cell_df.to_csv(os.path.join(analysis_resultpath,f'{figure_key}_group_cell_df.csv'),index = False)"
   ]
  },
  {
   "cell_type": "markdown",
   "id": "96be4a83",
   "metadata": {},
   "source": [
    "## Figure J"
   ]
  },
  {
   "cell_type": "code",
   "execution_count": null,
   "id": "82d11e48",
   "metadata": {},
   "outputs": [],
   "source": [
    "pannel_key = 'J'"
   ]
  },
  {
   "cell_type": "code",
   "execution_count": null,
   "id": "0d5a9780",
   "metadata": {},
   "outputs": [],
   "source": [
    "# plot an overlay of stripplot and pointplot showing Core_cells == 0 cells, Condition as x, Fos_cells as y\n",
    "import matplotlib.pyplot as plt\n",
    "import seaborn as sns\n",
    "\n",
    "# Filter the data for Core_cells == 0\n",
    "filtered_data = group_cell_df[group_cell_df.Core_cells == 0]\n",
    "\n",
    "# Create the plot\n",
    "fig, ax = plt.subplots(figsize=(1.,1.5))\n",
    "\n",
    "# Overlay stripplot\n",
    "sns.stripplot(\n",
    "    data=filtered_data,\n",
    "    x='Condition',\n",
    "    y='Fos_cells',\n",
    "    order=insitu_Conditions,\n",
    "    dodge=False,\n",
    "    ax=ax,\n",
    "    alpha = 0.5,\n",
    "    size= 2,\n",
    "    palette=['gray', 'lime', 'orange', 'cyan']\n",
    ")\n",
    "\n",
    "# Overlay pointplot\n",
    "sns.pointplot(\n",
    "    data=filtered_data,\n",
    "    x='Condition',\n",
    "    y='Fos_cells',\n",
    "    order=insitu_Conditions,\n",
    "    ax=ax,\n",
    "    linewidth=0.7,\n",
    "    errwidth = 1,\n",
    "    markersize= 5,\n",
    "    palette=['gray', 'lime', 'orange', 'cyan']\n",
    ")\n",
    "\n",
    "# Customize the plot\n",
    "sns.despine()\n",
    "ax.set_xticklabels(['Saline', 'Acute', 'Chronic', 'Early WD'], rotation=-45)\n",
    "ax.set_ylabel('Proportion of Fos+ cells')\n",
    "ax.set_title('AcbSh')\n",
    "\n",
    "from statannotations.Annotator import Annotator\n",
    "pairs = [(\"Saline\",c) for c in ['Acute_Morphine','Chronic_Morphine','Withdrawal_Morphine']]\n",
    "\n",
    "annotator = Annotator(ax, pairs, data=filtered_data,\n",
    "    x='Condition',\n",
    "    y='Fos_cells', order=insitu_Conditions)\n",
    "annotator.configure(test='t-test_ind', text_format='star', loc='outside',)\n",
    "annotator.configure(comparisons_correction=\"BH\", correction_format=\"replace\")\n",
    "annotator.apply_and_annotate()\n",
    "\n",
    "fig.savefig(os.path.join(analysis_figurepath,f'{figure_key}{pannel_key}.png'), dpi=300, bbox_inches='tight')\n",
    "fig.savefig(os.path.join(analysis_figurepath,f'{figure_key}{pannel_key}.pdf'), dpi=300, bbox_inches='tight')"
   ]
  },
  {
   "cell_type": "markdown",
   "id": "f66514f9",
   "metadata": {},
   "source": [
    "## Figure K"
   ]
  },
  {
   "cell_type": "code",
   "execution_count": null,
   "id": "d0896547",
   "metadata": {},
   "outputs": [],
   "source": [
    "pannel_key = 'K'"
   ]
  },
  {
   "cell_type": "code",
   "execution_count": null,
   "id": "7846a805",
   "metadata": {},
   "outputs": [],
   "source": [
    "# plot an overlay of stripplot and pointplot showing Core_cells == 1 cells, Condition as x, Fos_cells as y\n",
    "import matplotlib.pyplot as plt\n",
    "import seaborn as sns\n",
    "\n",
    "# Filter the data for Core_cells == 0\n",
    "filtered_data = group_cell_df[group_cell_df.Core_cells == 1]\n",
    "\n",
    "# Create the plot\n",
    "fig, ax = plt.subplots(figsize=(1.,1.5))\n",
    "\n",
    "# Overlay stripplot\n",
    "sns.stripplot(\n",
    "    data=filtered_data,\n",
    "    x='Condition',\n",
    "    y='Fos_cells',\n",
    "    order=insitu_Conditions,\n",
    "    dodge=False,\n",
    "    ax=ax,\n",
    "    alpha = 0.5,\n",
    "    size= 2,\n",
    "    palette=['gray', 'lime', 'orange', 'cyan']\n",
    ")\n",
    "\n",
    "# Overlay pointplot\n",
    "sns.pointplot(\n",
    "    data=filtered_data,\n",
    "    x='Condition',\n",
    "    y='Fos_cells',\n",
    "    order=insitu_Conditions,\n",
    "    ax=ax,\n",
    "    linewidth=0.7,\n",
    "    errwidth = 1,\n",
    "    markersize= 5,\n",
    "    palette=['gray', 'lime', 'orange', 'cyan']\n",
    ")\n",
    "\n",
    "# Customize the plot\n",
    "sns.despine()\n",
    "ax.set_xticklabels(['Saline', 'Acute', 'Chronic', 'Early WD'], rotation=-45)\n",
    "ax.set_ylabel('Proportion of Fos+ cells')\n",
    "ax.set_title('AcbC')\n",
    "\n",
    "from statannotations.Annotator import Annotator\n",
    "pairs = [(\"Saline\",c) for c in ['Acute_Morphine','Chronic_Morphine','Withdrawal_Morphine']]\n",
    "\n",
    "annotator = Annotator(ax, pairs, data=filtered_data,\n",
    "    x='Condition',\n",
    "    y='Fos_cells', order=insitu_Conditions)\n",
    "annotator.configure(test='t-test_ind', text_format='star', loc='outside',)\n",
    "annotator.configure(comparisons_correction=\"BH\", correction_format=\"replace\")\n",
    "annotator.apply_and_annotate()\n",
    "\n",
    "\n",
    "fig.savefig(os.path.join(analysis_figurepath,f'{figure_key}{pannel_key}.png'), dpi=300, bbox_inches='tight')\n",
    "fig.savefig(os.path.join(analysis_figurepath,f'{figure_key}{pannel_key}.pdf'), dpi=300, bbox_inches='tight')"
   ]
  },
  {
   "cell_type": "code",
   "execution_count": null,
   "id": "5a1a0427",
   "metadata": {},
   "outputs": [],
   "source": [
    "# Group Kim_z into anterior and posterior regions\n",
    "def assign_region(kim_z):\n",
    "    if kim_z in [88, 90, 92,94,96,]:\n",
    "        return 0\n",
    "    elif kim_z in [98,100, 102,104,106]:\n",
    "        return 1\n",
    "    else:\n",
    "        return 'Unknown'\n",
    "\n",
    "# Apply the function to create a new column\n",
    "total_merge_cell_df['Region_idx'] = total_merge_cell_df['Kim_z'].apply(assign_region)\n",
    "group_cell_df['Region_idx'] = group_cell_df['Kim_z'].apply(assign_region)\n"
   ]
  },
  {
   "cell_type": "markdown",
   "id": "5ea50fb1",
   "metadata": {},
   "source": [
    "## Check the overlap between Calcr and Kcnip1"
   ]
  },
  {
   "cell_type": "code",
   "execution_count": null,
   "id": "7814745c",
   "metadata": {},
   "outputs": [],
   "source": [
    "ZtoAP = pd.DataFrame(np.unique(section_metadf[['AP','Kim_z']].values,axis = 0),columns = ['AP','Kim_z']).set_index('Kim_z')"
   ]
  },
  {
   "cell_type": "code",
   "execution_count": null,
   "id": "45574b47",
   "metadata": {},
   "outputs": [],
   "source": [
    "pannel_key = 'H+I'"
   ]
  },
  {
   "cell_type": "code",
   "execution_count": null,
   "id": "1e79840e",
   "metadata": {},
   "outputs": [],
   "source": [
    "import matplotlib.pyplot as plt\n",
    "import seaborn as sns\n",
    "\n",
    "# Filter the data for Kim_z between 88 and 104\n",
    "filtered_data = group_cell_df[(group_cell_df['Kim_z'] >= 88) & (group_cell_df['Kim_z'] <= 106)]\n",
    "# convert the Kim_z to AP mm\n",
    "AP_text = [f'+{ZtoAP.loc[f,:].values[0]}' for f in np.sort(filtered_data.Kim_z.unique())]\n",
    "# Add a new column to distinguish Core and Shell\n",
    "filtered_data['Region'] = filtered_data.apply(\n",
    "    lambda row: 'Core' if row['Core_cells'] else ('Shell' if row['Shell_cells'] else 'Unknown'), axis=1\n",
    ")\n",
    "\n",
    "# Remove rows with 'Unknown' region\n",
    "filtered_data = filtered_data[filtered_data['Region'] != 'Unknown']\n",
    "\n",
    "# Define the genes to plot\n",
    "genes = ['Kcnip1', 'Calcr', 'Oxtr']\n",
    "\n",
    "# Create a figure with subplots for each gene\n",
    "fig, axs = plt.subplots(len(genes), 1, figsize=(2, len(genes) * 1.2), sharex=True)\n",
    "\n",
    "# Iterate over genes and plot for Core and Shell in the same plot\n",
    "for i, gene in enumerate(genes):\n",
    "    ax = axs[i]\n",
    "    sns.pointplot(\n",
    "        data=filtered_data,\n",
    "        x='Kim_z',\n",
    "        y=f'{gene}_cells',\n",
    "        hue='Region',\n",
    "        dodge=True,\n",
    "        ax=ax,\n",
    "        errwidth=0.5,\n",
    "        linewidth = 1,\n",
    "        markersize = 2,\n",
    "        markers='o',\n",
    "        palette=['orange', 'purple']  # Keep the same color for points\n",
    "    )\n",
    "    #ax.set_title(f'{gene} Distribution in Core and Shell')\n",
    "    ax.set_xlabel('from Bregma (mm)')\n",
    "    ax.set_ylabel(f'{gene} Counts')\n",
    "    sns.despine()\n",
    "    ax.set_ylim(0,)\n",
    "\n",
    "# Adjust layout\n",
    "plt.tight_layout()\n",
    "ax.set_xticklabels(AP_text)\n",
    "# Save the figure\n",
    "fig.savefig(os.path.join(analysis_figurepath, f'{figure_key}{pannel_key}.png'), dpi=300, bbox_inches='tight')\n",
    "fig.savefig(os.path.join(analysis_figurepath, f'{figure_key}{pannel_key}.pdf'), dpi=300, bbox_inches='tight')\n"
   ]
  },
  {
   "cell_type": "markdown",
   "id": "cb39f8c9",
   "metadata": {},
   "source": [
    "## Figure M"
   ]
  },
  {
   "cell_type": "code",
   "execution_count": null,
   "id": "4495cea8",
   "metadata": {},
   "outputs": [],
   "source": [
    "# select the dataframe to analyze\n",
    "tcell_df = core_cell_df\n",
    "for idx,tcell_df in enumerate([core_cell_df, shell_cell_df]):\n",
    "    \n",
    "    # get the fos counts by gene\n",
    "    for gene in genes:\n",
    "        if gene == 'Fos':\n",
    "            continue\n",
    "        #print(gene)\n",
    "        tcell_df.loc[:,f'Fos_{gene}_cells'] = False\n",
    "        tcell_df.loc[(tcell_df.Fos_cells) & (tcell_df[f'{gene}_regressed_counts'] > count_threshold),f'Fos_{gene}_cells'] = True\n",
    "\n",
    "    t_group_cell_df = tcell_df.groupby(['Condition','ID','section']).mean().reset_index()\n",
    "    if idx == 0:\n",
    "        Fos_group_cell_df = t_group_cell_df\n",
    "    else:\n",
    "        Fos_group_cell_df = pd.concat([Fos_group_cell_df,t_group_cell_df],axis = 0)\n",
    "    "
   ]
  },
  {
   "cell_type": "code",
   "execution_count": null,
   "id": "c27abc42",
   "metadata": {},
   "outputs": [],
   "source": [
    "# Group Kim_z into anterior and posterior regions\n",
    "def assign_region(kim_z):\n",
    "    if kim_z in [88, 90, 92,94,96,]:\n",
    "        return 0\n",
    "    elif kim_z in [98,100, 102,104,106]:\n",
    "        return 1\n",
    "    else:\n",
    "        return 'Unknown'\n",
    "\n",
    "# Apply the function to create a new column\n",
    "Fos_group_cell_df['Region_idx'] = Fos_group_cell_df['Kim_z'].apply(assign_region)\n"
   ]
  },
  {
   "cell_type": "code",
   "execution_count": null,
   "id": "e78a6c06",
   "metadata": {},
   "outputs": [],
   "source": [
    "# plot an overlay of stripplot and pointplot showing Core_cells == 0 cells, Condition as x, Fos_cells as y\n",
    "import matplotlib.pyplot as plt\n",
    "import seaborn as sns\n",
    "\n",
    "# Filter the data for Core_cells == 0\n",
    "filtered_data = Fos_group_cell_df[Fos_group_cell_df.Core_cells == 0]\n",
    "\n",
    "\n",
    "gene = 'Kcnip1'\n",
    "for gene in ['Kcnip1','Calcr','Oxtr']:\n",
    "    # Create the plot\n",
    "    fig, ax = plt.subplots(figsize=(1.,1.5))\n",
    "\n",
    "    # Overlay stripplot\n",
    "    sns.stripplot(\n",
    "        data=filtered_data,\n",
    "        x='Condition',\n",
    "        y=f'Fos_{gene}_cells',\n",
    "        order=insitu_Conditions,\n",
    "        dodge=False,\n",
    "        ax=ax,\n",
    "        alpha = 0.5,\n",
    "        size= 2,\n",
    "        palette=['gray', 'lime', 'orange', 'cyan']\n",
    "    )\n",
    "\n",
    "    # Overlay pointplot\n",
    "    sns.pointplot(\n",
    "        data=filtered_data,\n",
    "        x='Condition',\n",
    "        y=f'Fos_{gene}_cells',\n",
    "        order=insitu_Conditions,\n",
    "        ax=ax,\n",
    "        linewidth=0.7,\n",
    "        errwidth = 1,\n",
    "        markersize= 5,\n",
    "        palette=['gray', 'lime', 'orange', 'cyan']\n",
    "    )\n",
    "\n",
    "    # Customize the plot\n",
    "    sns.despine()\n",
    "    ax.set_xticklabels(['Saline', 'Acute', 'Chronic', 'Early WD'], rotation=-45)\n",
    "    ax.set_ylabel(f'Proportion of\\nFos+ & {gene}+ cells')\n",
    "    ax.set_title('AcbSh')\n",
    "\n",
    "    from statannotations.Annotator import Annotator\n",
    "    pairs = [(\"Saline\",c) for c in ['Acute_Morphine','Chronic_Morphine','Withdrawal_Morphine']]\n",
    "\n",
    "    annotator = Annotator(ax, pairs, data=filtered_data,\n",
    "        x='Condition',\n",
    "        y=f'Fos_{gene}_cells', order=insitu_Conditions)\n",
    "    annotator.configure(test='t-test_ind', text_format='star', loc='outside',)\n",
    "    annotator.configure(comparisons_correction=\"BH\", correction_format=\"replace\")\n",
    "    annotator.apply_and_annotate()\n",
    "\n",
    "    # save the figures\n",
    "    fig.savefig(os.path.join(analysis_figurepath,f'{figure_key}{pannel_key}_{gene}.png'), dpi=300, bbox_inches='tight')\n",
    "    fig.savefig(os.path.join(analysis_figurepath,f'{figure_key}{pannel_key}_{gene}.pdf'), dpi=300, bbox_inches='tight')\n"
   ]
  },
  {
   "cell_type": "markdown",
   "id": "4a81a3c1",
   "metadata": {},
   "source": [
    "## Figure L"
   ]
  },
  {
   "cell_type": "code",
   "execution_count": null,
   "id": "fe798898",
   "metadata": {},
   "outputs": [],
   "source": [
    "pannel_key = 'L'"
   ]
  },
  {
   "cell_type": "code",
   "execution_count": null,
   "id": "8ebc6042",
   "metadata": {},
   "outputs": [],
   "source": [
    "# plot an overlay of stripplot and pointplot showing Core_cells == 0 cells, Condition as x, Fos_cells as y\n",
    "import matplotlib.pyplot as plt\n",
    "import seaborn as sns\n",
    "\n",
    "# Filter the data for Core_cells == 0\n",
    "filtered_data = Fos_group_cell_df[Fos_group_cell_df.Core_cells == 1]\n",
    "\n",
    "\n",
    "gene = 'Kcnip1'\n",
    "for gene in ['Kcnip1','Calcr','Oxtr']:\n",
    "    # Create the plot\n",
    "    fig, ax = plt.subplots(figsize=(1.,1.5))\n",
    "\n",
    "    # Overlay stripplot\n",
    "    sns.stripplot(\n",
    "        data=filtered_data,\n",
    "        x='Condition',\n",
    "        y=f'Fos_{gene}_cells',\n",
    "        order=insitu_Conditions,\n",
    "        dodge=False,\n",
    "        ax=ax,\n",
    "        alpha = 0.5,\n",
    "        size= 2,\n",
    "        palette=['gray', 'lime', 'orange', 'cyan']\n",
    "    )\n",
    "\n",
    "    # Overlay pointplot\n",
    "    sns.pointplot(\n",
    "        data=filtered_data,\n",
    "        x='Condition',\n",
    "        y=f'Fos_{gene}_cells',\n",
    "        order=insitu_Conditions,\n",
    "        ax=ax,\n",
    "        errwidth = 1,\n",
    "        markersize= 5,\n",
    "        palette=['gray', 'lime', 'orange', 'cyan']\n",
    "    )\n",
    "\n",
    "    # Customize the plot\n",
    "    sns.despine()\n",
    "    ax.set_xticklabels(['Saline', 'Acute', 'Chronic', 'Early WD'], rotation=-45)\n",
    "    ax.set_ylabel(f'Proportion of\\nFos+ & {gene}+ cells')\n",
    "    ax.set_title('AcbC')\n",
    "\n",
    "    from statannotations.Annotator import Annotator\n",
    "    pairs = [(\"Saline\",c) for c in ['Acute_Morphine','Chronic_Morphine','Withdrawal_Morphine']]\n",
    "\n",
    "    annotator = Annotator(ax, pairs, data=filtered_data,\n",
    "        x='Condition',\n",
    "        y=f'Fos_{gene}_cells', order=insitu_Conditions)\n",
    "    annotator.configure(test='t-test_ind', text_format='star', loc='outside',)\n",
    "    annotator.configure(comparisons_correction=\"BH\", correction_format=\"replace\")\n",
    "    annotator.apply_and_annotate()\n",
    "\n",
    "    # save the figures\n",
    "    fig.savefig(os.path.join(analysis_figurepath,f'{figure_key}{pannel_key}_{gene}.png'), dpi=300, bbox_inches='tight')\n",
    "    fig.savefig(os.path.join(analysis_figurepath,f'{figure_key}{pannel_key}_{gene}.pdf'), dpi=300, bbox_inches='tight')\n",
    "    "
   ]
  }
 ],
 "metadata": {
  "kernelspec": {
   "display_name": "scanpy_py",
   "language": "python",
   "name": "python3"
  },
  "language_info": {
   "codemirror_mode": {
    "name": "ipython",
    "version": 3
   },
   "file_extension": ".py",
   "mimetype": "text/x-python",
   "name": "python",
   "nbconvert_exporter": "python",
   "pygments_lexer": "ipython3",
   "version": "3.12.8"
  }
 },
 "nbformat": 4,
 "nbformat_minor": 5
}
